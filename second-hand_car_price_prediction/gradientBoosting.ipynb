{
 "cells": [
  {
   "cell_type": "code",
   "execution_count": 1,
   "metadata": {},
   "outputs": [],
   "source": [
    "import pandas as pd\n",
    "import numpy as np\n",
    "import pickle\n",
    "from sklearn.metrics import mean_squared_error\n",
    "from sklearn.model_selection import train_test_split\n",
    "from sklearn import preprocessing\n",
    "import numpy as np \n",
    "from sklearn.ensemble import GradientBoostingRegressor as GBR\n",
    "from sklearn.model_selection import GridSearchCV  \n",
    "import matplotlib.pyplot as plt"
   ]
  },
  {
   "cell_type": "code",
   "execution_count": 2,
   "metadata": {},
   "outputs": [],
   "source": [
    "with open('dataset.pickle', 'rb') as fp:\n",
    "    dataset = pickle.load(fp)"
   ]
  },
  {
   "cell_type": "code",
   "execution_count": 3,
   "metadata": {},
   "outputs": [
    {
     "name": "stdout",
     "output_type": "stream",
     "text": [
      "dict_keys(['x_subtrain', 'y_subtrain', 'x_valid', 'y_valid', 'x_stack', 'y_stack', 'x_test', 'y_test'])\n"
     ]
    }
   ],
   "source": [
    "print(dict.keys(dataset))"
   ]
  },
  {
   "cell_type": "code",
   "execution_count": 4,
   "metadata": {},
   "outputs": [
    {
     "name": "stdout",
     "output_type": "stream",
     "text": [
      "{'x_subtrain': array([[  2002., 162689.,      0., ...,      0.,      0.,      0.],\n",
      "       [  2008., 158000.,      0., ...,      0.,      0.,      0.],\n",
      "       [  2013.,  76020.,      0., ...,      0.,      0.,      0.],\n",
      "       ...,\n",
      "       [  2010., 102000.,      0., ...,      0.,      0.,      0.],\n",
      "       [  2003., 219154.,      0., ...,      0.,      0.,      0.],\n",
      "       [  2010.,  80667.,      0., ...,      0.,      0.,      0.]]), 'y_subtrain': array([ 8995, 13250,  7800, ...,  4650,  3950,  8499], dtype=int64), 'x_valid': array([[  2019.,  10868.,      0., ...,      0.,      0.,      0.],\n",
      "       [  2004., 195649.,      0., ...,      0.,      0.,      0.],\n",
      "       [  2011.,  62668.,      0., ...,      0.,      0.,      0.],\n",
      "       ...,\n",
      "       [  2007., 117000.,      0., ...,      0.,      0.,      0.],\n",
      "       [  2010.,  85900.,      0., ...,      0.,      0.,      0.],\n",
      "       [  2001., 252000.,      0., ...,      0.,      0.,      0.]]), 'y_valid': array([39995,  3799, 14990, ...,  4995,  5750,  3200], dtype=int64), 'x_stack': array([[  2006., 249000.,      0., ...,      0.,      0.,      0.],\n",
      "       [  2011.,  88903.,      0., ...,      0.,      0.,      0.],\n",
      "       [  2019.,  58893.,      0., ...,      0.,      0.,      0.],\n",
      "       ...,\n",
      "       [  2017.,  43501.,      0., ...,      0.,      0.,      0.],\n",
      "       [  2014., 118332.,      0., ...,      0.,      0.,      0.],\n",
      "       [  2008.,  96373.,      0., ...,      0.,      0.,      0.]]), 'y_stack': array([15000, 15590, 17295, ..., 34900,  9900,  6500], dtype=int64), 'x_test': array([[  2008., 153240.,      0., ...,      0.,      0.,      0.],\n",
      "       [  2004., 198000.,      0., ...,      0.,      0.,      0.],\n",
      "       [  2007., 130700.,      0., ...,      0.,      0.,      0.],\n",
      "       ...,\n",
      "       [  1929.,  67600.,      0., ...,      0.,      0.,      0.],\n",
      "       [  2017.,  30095.,      0., ...,      0.,      0.,      0.],\n",
      "       [  2008.,  99000.,      0., ...,      0.,      0.,      0.]]), 'y_test': array([ 8795,  3000,  6495, ..., 14700, 16995,  6995], dtype=int64)}\n"
     ]
    }
   ],
   "source": [
    "print(dataset)"
   ]
  },
  {
   "cell_type": "code",
   "execution_count": 4,
   "metadata": {},
   "outputs": [],
   "source": [
    "x_subtrain = dataset[\"x_subtrain\"]\n",
    "y_subtrain = dataset['y_subtrain']\n",
    "x_valid = dataset['x_valid']\n",
    "y_valid = dataset['y_valid']\n",
    "x_stack = dataset['x_stack']\n",
    "y_stack = dataset['y_stack']\n",
    "x_test = dataset['x_test']\n",
    "y_test = dataset['y_test']"
   ]
  },
  {
   "cell_type": "code",
   "execution_count": null,
   "metadata": {},
   "outputs": [],
   "source": [
    "#learning_rate = [0.0001, 0.0005, 0.001, 0.005, 0.01]\n",
    "#default n_est = 100, lr = 0.1"
   ]
  },
  {
   "cell_type": "code",
   "execution_count": 9,
   "metadata": {},
   "outputs": [
    {
     "name": "stdout",
     "output_type": "stream",
     "text": [
      "lr = 0.05, n_estimators = 500, rmse = 3595.3098888216764, mae = 2517.815039258221\n",
      "lr = 0.05, n_estimators = 750, rmse = 3466.0274231210783, mae = 2419.751197787047\n",
      "lr = 0.05, n_estimators = 1000, rmse = 3368.218736028517, mae = 2346.4609687316142\n"
     ]
    }
   ],
   "source": [
    "n_estimators = np.arange(500, 1250, 250)\n",
    "\n",
    "rmse_list = []\n",
    "mae_list = []\n",
    "\n",
    "for n in n_estimators :\n",
    "    gbr = GBR(n_estimators = n, learning_rate = 0.05, n_iter_no_change=3) \n",
    "    gbr.fit(x_subtrain, y_subtrain)\n",
    "    y_pred = gbr.predict(x_valid)\n",
    "    rmse = np.sqrt(mean_squared_error(y_valid, y_pred))\n",
    "    rmse_list.append(rmse)\n",
    "    mae = np.sum(np.abs(y_valid - y_pred))/y_pred.size\n",
    "    mae_list.append(mae)\n",
    "    s = \"lr = {0}, n_estimators = {1}, rmse = {2}, mae = {3}\".format(0.05, n, rmse, mae)\n",
    "    print(s)"
   ]
  },
  {
   "cell_type": "code",
   "execution_count": 12,
   "metadata": {},
   "outputs": [
    {
     "name": "stdout",
     "output_type": "stream",
     "text": [
      "lr = 0.1, n_estimators = 500, rmse = 3373.3347952964336, mae = 2342.2235496532753\n",
      "lr = 0.1, n_estimators = 750, rmse = 3253.378677047967, mae = 2244.4479167275404\n",
      "lr = 0.1, n_estimators = 1000, rmse = 3161.0857575273744, mae = 2172.557007402947\n"
     ]
    }
   ],
   "source": [
    "n_estimators = np.arange(500, 1250, 250)\n",
    "\n",
    "for n in n_estimators :\n",
    "    gbr = GBR(n_estimators = n, learning_rate = 0.1, n_iter_no_change=3) \n",
    "    gbr.fit(x_subtrain, y_subtrain)\n",
    "    y_pred = gbr.predict(x_valid)\n",
    "    rmse = np.sqrt(mean_squared_error(y_valid, y_pred))\n",
    "    rmse_list.append(rmse)\n",
    "    mae = np.sum(np.abs(y_valid - y_pred))/y_pred.size\n",
    "    mae_list.append(mae)\n",
    "    s = \"lr = {0}, n_estimators = {1}, rmse = {2}, mae = {3}\".format(0.1, n, rmse, mae)\n",
    "    print(s)"
   ]
  },
  {
   "cell_type": "code",
   "execution_count": 13,
   "metadata": {},
   "outputs": [
    {
     "name": "stdout",
     "output_type": "stream",
     "text": [
      "lr = 0.2, n_estimators = 500, rmse = 3185.7336407907424, mae = 2179.294211778266\n",
      "lr = 0.2, n_estimators = 750, rmse = 3150.6317263807423, mae = 2148.544258953148\n",
      "lr = 0.2, n_estimators = 1000, rmse = 3262.1860286223714, mae = 2253.4695567654603\n"
     ]
    }
   ],
   "source": [
    "for n in n_estimators :\n",
    "    gbr = GBR(n_estimators = n, learning_rate = 0.2, n_iter_no_change=3) \n",
    "    gbr.fit(x_subtrain, y_subtrain)\n",
    "    y_pred = gbr.predict(x_valid)\n",
    "    rmse = np.sqrt(mean_squared_error(y_valid, y_pred))\n",
    "    mae = np.sum(np.abs(y_valid - y_pred))/y_pred.size\n",
    "    s = \"lr = {0}, n_estimators = {1}, rmse = {2}, mae = {3}\".format(0.2, n, rmse, mae)\n",
    "    print(s)"
   ]
  },
  {
   "cell_type": "code",
   "execution_count": 5,
   "metadata": {},
   "outputs": [
    {
     "name": "stdout",
     "output_type": "stream",
     "text": [
      "lr = 0.2, n_estimators = 750, rmse = 3074.746402856346, mae = 2088.416713183923\n"
     ]
    }
   ],
   "source": [
    "n = 750\n",
    "gbr = GBR(n_estimators = n, learning_rate = 0.2, n_iter_no_change=3) \n",
    "gbr.fit(x_subtrain, y_subtrain)\n",
    "y_pred = gbr.predict(x_valid)\n",
    "rmse = np.sqrt(mean_squared_error(y_valid, y_pred))\n",
    "mae = np.sum(np.abs(y_valid - y_pred))/y_pred.size\n",
    "s = \"lr = {0}, n_estimators = {1}, rmse = {2}, mae = {3}\".format(0.2, n, rmse, mae)\n",
    "print(s)"
   ]
  },
  {
   "cell_type": "code",
   "execution_count": 6,
   "metadata": {},
   "outputs": [],
   "source": [
    "with open('GBR_best.pickle', 'wb') as fp:\n",
    "    pickle.dump(gbr, fp)"
   ]
  },
  {
   "cell_type": "code",
   "execution_count": 30,
   "metadata": {},
   "outputs": [
    {
     "name": "stdout",
     "output_type": "stream",
     "text": [
      "lr = 0.05, n_estimators = 250, rmse = 3865.088890852668, mae = 2721.6021258205215\n"
     ]
    }
   ],
   "source": [
    "gbr = GBR(n_estimators = 250, learning_rate = 0.05, n_iter_no_change=3) \n",
    "gbr.fit(x_subtrain, y_subtrain)\n",
    "y_pred = gbr.predict(x_valid)\n",
    "rmse = np.sqrt(mean_squared_error(y_valid, y_pred))\n",
    "mae = np.sum(np.abs(y_valid - y_pred))/y_pred.size\n",
    "s = \"lr = {0}, n_estimators = {1}, rmse = {2}, mae = {3}\".format(0.05, 250, rmse, mae)\n",
    "print(s)"
   ]
  },
  {
   "cell_type": "code",
   "execution_count": 25,
   "metadata": {},
   "outputs": [
    {
     "name": "stdout",
     "output_type": "stream",
     "text": [
      "lr = 0.1, n_estimators = 250, rmse = 3589.051750242173, mae = 2522.7866898890593\n"
     ]
    }
   ],
   "source": [
    "gbr = GBR(n_estimators = 250, learning_rate = 0.1, n_iter_no_change=3) \n",
    "gbr.fit(x_subtrain, y_subtrain)\n",
    "y_pred = gbr.predict(x_valid)\n",
    "rmse = np.sqrt(mean_squared_error(y_valid, y_pred))\n",
    "mae = np.sum(np.abs(y_valid - y_pred))/y_pred.size\n",
    "s = \"lr = {0}, n_estimators = {1}, rmse = {2}, mae = {3}\".format(0.1, 250, rmse, mae)\n",
    "print(s)"
   ]
  },
  {
   "cell_type": "code",
   "execution_count": 26,
   "metadata": {},
   "outputs": [
    {
     "name": "stdout",
     "output_type": "stream",
     "text": [
      "lr = 0.2, n_estimators = 250, rmse = 3361.2266535016506, mae = 2341.085399756433\n"
     ]
    }
   ],
   "source": [
    "gbr = GBR(n_estimators = 250, learning_rate = 0.2, n_iter_no_change=3) \n",
    "gbr.fit(x_subtrain, y_subtrain)\n",
    "y_pred = gbr.predict(x_valid)\n",
    "rmse = np.sqrt(mean_squared_error(y_valid, y_pred))\n",
    "mae = np.sum(np.abs(y_valid - y_pred))/y_pred.size\n",
    "s = \"lr = {0}, n_estimators = {1}, rmse = {2}, mae = {3}\".format(0.2, 250, rmse, mae)\n",
    "print(s)"
   ]
  },
  {
   "cell_type": "code",
   "execution_count": 27,
   "metadata": {},
   "outputs": [
    {
     "name": "stdout",
     "output_type": "stream",
     "text": [
      "lr = 0.2, n_estimators = 100, rmse = 3677.052728313228, mae = 2576.9149252807297\n"
     ]
    }
   ],
   "source": [
    "gbr = GBR(n_estimators = 100, learning_rate = 0.2, n_iter_no_change=3) \n",
    "gbr.fit(x_subtrain, y_subtrain)\n",
    "y_pred = gbr.predict(x_valid)\n",
    "rmse = np.sqrt(mean_squared_error(y_valid, y_pred))\n",
    "mae = np.sum(np.abs(y_valid - y_pred))/y_pred.size\n",
    "s = \"lr = {0}, n_estimators = {1}, rmse = {2}, mae = {3}\".format(0.2, 100, rmse, mae)\n",
    "print(s)"
   ]
  },
  {
   "cell_type": "code",
   "execution_count": 28,
   "metadata": {},
   "outputs": [
    {
     "name": "stdout",
     "output_type": "stream",
     "text": [
      "lr = 0.1, n_estimators = 100, rmse = 3962.012242231655, mae = 2798.954733213899\n"
     ]
    }
   ],
   "source": [
    "gbr = GBR(n_estimators = 100, learning_rate = 0.1, n_iter_no_change=3) \n",
    "gbr.fit(x_subtrain, y_subtrain)\n",
    "y_pred = gbr.predict(x_valid)\n",
    "rmse = np.sqrt(mean_squared_error(y_valid, y_pred))\n",
    "mae = np.sum(np.abs(y_valid - y_pred))/y_pred.size\n",
    "s = \"lr = {0}, n_estimators = {1}, rmse = {2}, mae = {3}\".format(0.1, 100, rmse, mae)\n",
    "print(s)"
   ]
  },
  {
   "cell_type": "code",
   "execution_count": 29,
   "metadata": {},
   "outputs": [
    {
     "name": "stdout",
     "output_type": "stream",
     "text": [
      "lr = 0.05, n_estimators = 100, rmse = 4270.8062359236355, mae = 3050.6893504281916\n"
     ]
    }
   ],
   "source": [
    "gbr = GBR(n_estimators = 100, learning_rate = 0.05, n_iter_no_change=3) \n",
    "gbr.fit(x_subtrain, y_subtrain)\n",
    "y_pred = gbr.predict(x_valid)\n",
    "rmse = np.sqrt(mean_squared_error(y_valid, y_pred))\n",
    "mae = np.sum(np.abs(y_valid - y_pred))/y_pred.size\n",
    "s = \"lr = {0}, n_estimators = {1}, rmse = {2}, mae = {3}\".format(0.05, 100, rmse, mae)\n",
    "print(s)"
   ]
  },
  {
   "cell_type": "code",
   "execution_count": 32,
   "metadata": {},
   "outputs": [
    {
     "data": {
      "image/png": "[encoded data removed]",
      "text/plain": [
       "<Figure size 432x288 with 1 Axes>"
      ]
     },
     "metadata": {
      "needs_background": "light"
     },
     "output_type": "display_data"
    }
   ],
   "source": [
    "n_est = [100, 250, 500, 750, 1000]\n",
    "rmse005 = [4270, 3865, 3595, 3466, 3368]\n",
    "rmse01 = [3962, 3589, 3373, 3253, 3161]\n",
    "rmse02 = [3677, 3361, 3185, 3074, 3262]\n",
    "\n",
    "l1, = plt.plot(n_est, rmse005, color = \"red\")\n",
    "l2, = plt.plot(n_est, rmse01, color = \"blue\")\n",
    "l3, = plt.plot(n_est, rmse02, color = \"green\")\n",
    "\n",
    "plt.title(\"Gradient Boosting tuning\") # title\n",
    "plt.ylabel(\"RMSE\") # y label\n",
    "plt.xlabel(\"n_estimators\") # x label\n",
    "plt.legend(labels = ['lr005', 'lr01', 'lr02'], loc = \"best\")\n",
    "\n",
    "plt.savefig('rmse.jpg')\n",
    "plt.show()\n"
   ]
  },
  {
   "cell_type": "code",
   "execution_count": 33,
   "metadata": {},
   "outputs": [
    {
     "data": {
      "image/png": "[encoded data removed]",
      "text/plain": [
       "<Figure size 432x288 with 1 Axes>"
      ]
     },
     "metadata": {
      "needs_background": "light"
     },
     "output_type": "display_data"
    }
   ],
   "source": [
    "n_est = [100, 250, 500, 750, 1000]\n",
    "mae005 = [3050, 2721, 2517, 2419, 2346]\n",
    "mae01 = [2798, 2522, 2342, 2244, 2172]\n",
    "mae02 = [2576, 2341, 2179, 2088, 2253]\n",
    "\n",
    "l1, = plt.plot(n_est, mae005, color = \"red\")\n",
    "l2, = plt.plot(n_est, mae01, color = \"blue\")\n",
    "l3, = plt.plot(n_est, mae02, color = \"green\")\n",
    "\n",
    "plt.title(\"Gradient Boosting tuning\") # title\n",
    "plt.ylabel(\"MAE\") # y label\n",
    "plt.xlabel(\"n_estimators\") # x label\n",
    "plt.legend(labels = ['lr005', 'lr01', 'lr02'], loc = \"best\")\n",
    "\n",
    "plt.savefig('mae.jpg')\n",
    "plt.show()"
   ]
  },
  {
   "cell_type": "code",
   "execution_count": null,
   "metadata": {},
   "outputs": [],
   "source": []
  }
 ],
 "metadata": {
  "kernelspec": {
   "display_name": "Python 3",
   "language": "python",
   "name": "python3"
  },
  "language_info": {
   "codemirror_mode": {
    "name": "ipython",
    "version": 3
   },
   "file_extension": ".py",
   "mimetype": "text/x-python",
   "name": "python",
   "nbconvert_exporter": "python",
   "pygments_lexer": "ipython3",
   "version": "3.8.0"
  }
 },
 "nbformat": 4,
 "nbformat_minor": 4
}
