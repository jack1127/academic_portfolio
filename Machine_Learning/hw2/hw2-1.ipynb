{
  "nbformat": 4,
  "nbformat_minor": 0,
  "metadata": {
    "accelerator": "GPU",
    "colab": {
      "name": "MLSpring2021_HW2_1_ipynb」的副本.ipynb",
      "provenance": [],
      "collapsed_sections": []
    },
    "kernelspec": {
      "display_name": "Python 3",
      "name": "python3"
    }
  },
  "cells": [
    {
      "cell_type": "markdown",
      "metadata": {
        "id": "OYlaRwNu7ojq"
      },
      "source": [
        "# **Homework 2-1 Phoneme Classification**"
      ]
    },
    {
      "cell_type": "code",
      "metadata": {
        "colab": {
          "base_uri": "https://localhost:8080/"
        },
        "id": "yU6cPFUJLUxU",
        "outputId": "403d5607-ecad-4d03-99bb-41424b40f1dd"
      },
      "source": [
        "from google.colab import drive\n",
        "drive.mount('/content/drive')"
      ],
      "execution_count": 1,
      "outputs": [
        {
          "output_type": "stream",
          "text": [
            "Mounted at /content/drive\n"
          ],
          "name": "stdout"
        }
      ]
    },
    {
      "cell_type": "markdown",
      "metadata": {
        "id": "emUd7uS7crTz"
      },
      "source": [
        "## The DARPA TIMIT Acoustic-Phonetic Continuous Speech Corpus (TIMIT)\n",
        "The TIMIT corpus of reading speech has been designed to provide speech data for the acquisition of acoustic-phonetic knowledge and for the development and evaluation of automatic speech recognition systems.\n",
        "\n",
        "This homework is a multiclass classification task, \n",
        "we are going to train a deep neural network classifier to predict the phonemes for each frame from the speech corpus TIMIT.\n",
        "\n",
        "link: https://academictorrents.com/details/34e2b78745138186976cbc27939b1b34d18bd5b3"
      ]
    },
    {
      "cell_type": "markdown",
      "metadata": {
        "id": "KVUGfWTo7_Oj"
      },
      "source": [
        "## Download Data\n",
        "Download data from google drive, then unzip it.\n",
        "\n",
        "You should have `timit_11/train_11.npy`, `timit_11/train_label_11.npy`, and `timit_11/test_11.npy` after running this block.<br><br>\n",
        "`timit_11/`\n",
        "- `train_11.npy`: training data<br>\n",
        "- `train_label_11.npy`: training label<br>\n",
        "- `test_11.npy`:  testing data<br><br>\n",
        "\n",
        "**notes: if the google drive link is dead, you can download the data directly from Kaggle and upload it to the workspace**\n",
        "\n",
        "\n"
      ]
    },
    {
      "cell_type": "code",
      "metadata": {
        "id": "OzkiMEcC3Foq"
      },
      "source": [
        "#!gdown --id '1HPkcmQmFGu-3OknddKIa5dNDsR05lIQR' --output data.zip\n",
        "#!unzip data.zip\n",
        "#!ls "
      ],
      "execution_count": 3,
      "outputs": []
    },
    {
      "cell_type": "markdown",
      "metadata": {
        "id": "_L_4anls8Drv"
      },
      "source": [
        "## Preparing Data\n",
        "Load the training and testing data from the `.npy` file (NumPy array)."
      ]
    },
    {
      "cell_type": "code",
      "metadata": {
        "colab": {
          "base_uri": "https://localhost:8080/"
        },
        "id": "IJjLT8em-y9G",
        "outputId": "e6ceabb2-b4bb-4b4a-f9a0-db1e3729d4f6"
      },
      "source": [
        "import numpy as np\n",
        "import os\n",
        "os.chdir(\"drive/MyDrive/Colab Notebooks\") \n",
        "\n",
        "print('Loading data ...')\n",
        "\n",
        "data_root='./timit_11/'\n",
        "train = np.load(data_root + 'train_11.npy')\n",
        "train_label = np.load(data_root + 'train_label_11.npy')\n",
        "test = np.load(data_root + 'test_11.npy')\n",
        "\n",
        "print('Size of training data: {}'.format(train.shape))\n",
        "print('Size of testing data: {}'.format(test.shape))"
      ],
      "execution_count": 4,
      "outputs": [
        {
          "output_type": "stream",
          "text": [
            "Loading data ...\n",
            "Size of training data: (1229932, 429)\n",
            "Size of testing data: (451552, 429)\n"
          ],
          "name": "stdout"
        }
      ]
    },
    {
      "cell_type": "markdown",
      "metadata": {
        "id": "us5XW_x6udZQ"
      },
      "source": [
        "## Create Dataset"
      ]
    },
    {
      "cell_type": "code",
      "metadata": {
        "id": "Fjf5EcmJtf4e"
      },
      "source": [
        "import torch\n",
        "from torch.utils.data import Dataset\n",
        "\n",
        "class TIMITDataset(Dataset):\n",
        "    def __init__(self, X, y=None):\n",
        "        self.data = torch.from_numpy(X).float()\n",
        "        if y is not None:\n",
        "            y = y.astype(np.int)\n",
        "            self.label = torch.LongTensor(y)\n",
        "        else:\n",
        "            self.label = None\n",
        "\n",
        "    def __getitem__(self, idx):\n",
        "        if self.label is not None:\n",
        "            return self.data[idx], self.label[idx]\n",
        "        else:\n",
        "            return self.data[idx]\n",
        "\n",
        "    def __len__(self):\n",
        "        return len(self.data)\n"
      ],
      "execution_count": 5,
      "outputs": []
    },
    {
      "cell_type": "markdown",
      "metadata": {
        "id": "otIC6WhGeh9v"
      },
      "source": [
        "Split the labeled data into a training set and a validation set, you can modify the variable `VAL_RATIO` to change the ratio of validation data."
      ]
    },
    {
      "cell_type": "code",
      "metadata": {
        "colab": {
          "base_uri": "https://localhost:8080/"
        },
        "id": "sYqi_lAuvC59",
        "outputId": "d0bcdf04-4961-4208-8ee7-8a123d0709ce"
      },
      "source": [
        "VAL_RATIO = 0.2\n",
        "\n",
        "percent = int(train.shape[0] * (1 - VAL_RATIO))\n",
        "train_x, train_y, val_x, val_y = train[:percent], train_label[:percent], train[percent:], train_label[percent:]\n",
        "print('Size of training set: {}'.format(train_x.shape))\n",
        "print('Size of validation set: {}'.format(val_x.shape))"
      ],
      "execution_count": 6,
      "outputs": [
        {
          "output_type": "stream",
          "text": [
            "Size of training set: (983945, 429)\n",
            "Size of validation set: (245987, 429)\n"
          ],
          "name": "stdout"
        }
      ]
    },
    {
      "cell_type": "markdown",
      "metadata": {
        "id": "nbCfclUIgMTX"
      },
      "source": [
        "Create a data loader from the dataset, feel free to tweak the variable `BATCH_SIZE` here."
      ]
    },
    {
      "cell_type": "code",
      "metadata": {
        "id": "RUCbQvqJurYc"
      },
      "source": [
        "BATCH_SIZE = 128\n",
        "\n",
        "from torch.utils.data import DataLoader\n",
        "\n",
        "train_set = TIMITDataset(train_x, train_y)\n",
        "val_set = TIMITDataset(val_x, val_y)\n",
        "train_loader = DataLoader(train_set, batch_size=BATCH_SIZE, shuffle=True) #only shuffle the training data\n",
        "val_loader = DataLoader(val_set, batch_size=BATCH_SIZE, shuffle=False)"
      ],
      "execution_count": 7,
      "outputs": []
    },
    {
      "cell_type": "markdown",
      "metadata": {
        "id": "_SY7X0lUgb50"
      },
      "source": [
        "Cleanup the unneeded variables to save memory.<br>\n",
        "\n",
        "**notes: if you need to use these variables later, then you may remove this block or clean up unneeded variables later<br>the data size is quite huge, so be aware of memory usage in colab**"
      ]
    },
    {
      "cell_type": "code",
      "metadata": {
        "colab": {
          "base_uri": "https://localhost:8080/"
        },
        "id": "y8rzkGraeYeN",
        "outputId": "86971df6-dd5c-4d8c-d77e-8de0a1f86265"
      },
      "source": [
        "import gc\n",
        "\n",
        "del train, train_label, train_x, train_y, val_x, val_y\n",
        "gc.collect()"
      ],
      "execution_count": 8,
      "outputs": [
        {
          "output_type": "execute_result",
          "data": {
            "text/plain": [
              "153"
            ]
          },
          "metadata": {
            "tags": []
          },
          "execution_count": 8
        }
      ]
    },
    {
      "cell_type": "markdown",
      "metadata": {
        "id": "IRqKNvNZwe3V"
      },
      "source": [
        "## Create Model"
      ]
    },
    {
      "cell_type": "markdown",
      "metadata": {
        "id": "FYr1ng5fh9pA"
      },
      "source": [
        "Define model architecture, you are encouraged to change and experiment with the model architecture."
      ]
    },
    {
      "cell_type": "code",
      "metadata": {
        "id": "lbZrwT6Ny0XL"
      },
      "source": [
        "import torch\n",
        "import torch.nn as nn\n",
        "\n",
        "class Classifier(nn.Module):\n",
        "    def __init__(self):\n",
        "        super(Classifier, self).__init__()\n",
        "        self.net = nn.Sequential(\n",
        "          nn.Linear(429, 1024),\n",
        "          nn.ReLU(),\n",
        "          nn.BatchNorm1d(1024),\n",
        "          nn.Dropout(0.4),\n",
        "\n",
        "          nn.Linear(1024, 1536),\n",
        "          nn.ReLU(),\n",
        "          nn.BatchNorm1d(1536),\n",
        "          nn.Dropout(0.4),\n",
        "          \n",
        "          nn.Linear(1536, 2048),\n",
        "          nn.ReLU(),\n",
        "          nn.BatchNorm1d(2048),\n",
        "          nn.Dropout(0.5),\n",
        "          \n",
        "          nn.Linear(2048, 3072),\n",
        "          nn.ReLU(),\n",
        "          nn.BatchNorm1d(3072),\n",
        "          nn.Dropout(0.5),\n",
        "          \n",
        "          nn.Linear(3072, 2048),\n",
        "          nn.ReLU(),\n",
        "          nn.BatchNorm1d(2048),\n",
        "          nn.Dropout(0.5),\n",
        "          \n",
        "          nn.Linear(2048, 1536),\n",
        "          nn.ReLU(),\n",
        "          nn.BatchNorm1d(1536),\n",
        "          nn.Dropout(0.4),\n",
        "          \n",
        "          nn.Linear(1536, 1024),\n",
        "          nn.ReLU(),\n",
        "          nn.BatchNorm1d(1024),\n",
        "          nn.Dropout(0.3),\n",
        "          \n",
        "          nn.Linear(1024, 512),\n",
        "          nn.ReLU(),\n",
        "          nn.BatchNorm1d(512),\n",
        "          nn.Dropout(0.2),\n",
        "\n",
        "          nn.Linear(512, 128),\n",
        "          nn.ReLU(),\n",
        "\n",
        "          nn.Linear(128, 39),\n",
        "        )\n",
        "        \n",
        "\n",
        "\n",
        "    def forward(self, x):\n",
        "        x = self.net(x)\n",
        "        return x"
      ],
      "execution_count": 9,
      "outputs": []
    },
    {
      "cell_type": "markdown",
      "metadata": {
        "id": "VRYciXZvPbYh"
      },
      "source": [
        "## Training"
      ]
    },
    {
      "cell_type": "code",
      "metadata": {
        "id": "y114Vmm3Ja6o"
      },
      "source": [
        "#check device\n",
        "def get_device():\n",
        "  return 'cuda' if torch.cuda.is_available() else 'cpu'"
      ],
      "execution_count": 10,
      "outputs": []
    },
    {
      "cell_type": "markdown",
      "metadata": {
        "id": "sEX-yjHjhGuH"
      },
      "source": [
        "Fix random seeds for reproducibility."
      ]
    },
    {
      "cell_type": "code",
      "metadata": {
        "id": "88xPiUnm0tAd"
      },
      "source": [
        "# fix random seed\n",
        "def same_seeds(seed):\n",
        "    torch.manual_seed(seed)\n",
        "    if torch.cuda.is_available():\n",
        "        torch.cuda.manual_seed(seed)\n",
        "        torch.cuda.manual_seed_all(seed)  \n",
        "    np.random.seed(seed)  \n",
        "    torch.backends.cudnn.benchmark = False\n",
        "    torch.backends.cudnn.deterministic = True"
      ],
      "execution_count": 11,
      "outputs": []
    },
    {
      "cell_type": "markdown",
      "metadata": {
        "id": "KbBcBXkSp6RA"
      },
      "source": [
        "Feel free to change the training parameters here."
      ]
    },
    {
      "cell_type": "code",
      "metadata": {
        "id": "QTp3ZXg1yO9Y",
        "colab": {
          "base_uri": "https://localhost:8080/"
        },
        "outputId": "12e12ac1-25b6-4029-ffa0-048d82bc2be5"
      },
      "source": [
        "# fix random seed for reproducibility\n",
        "same_seeds(1)\n",
        "\n",
        "# get device \n",
        "device = get_device()\n",
        "print(f'DEVICE: {device}')\n",
        "\n",
        "# training parameters\n",
        "num_epoch = 150               # number of training epoch\n",
        "learning_rate = 0.0003       # learning rate\n",
        "\n",
        "# the path where checkpoint saved\n",
        "model_path = './model.ckpt'\n",
        "\n",
        "# create model, define a loss function, and optimizer\n",
        "model = Classifier().to(device)\n",
        "criterion = nn.CrossEntropyLoss() \n",
        "optimizer = torch.optim.Adam(model.parameters(), lr=learning_rate)\n"
      ],
      "execution_count": 12,
      "outputs": [
        {
          "output_type": "stream",
          "text": [
            "DEVICE: cuda\n"
          ],
          "name": "stdout"
        }
      ]
    },
    {
      "cell_type": "code",
      "metadata": {
        "id": "CdMWsBs7zzNs",
        "colab": {
          "base_uri": "https://localhost:8080/"
        },
        "outputId": "50ae8a77-8517-4e33-97a7-2e3c4886f2fc"
      },
      "source": [
        "# start training\n",
        "\n",
        "best_acc = 0.0\n",
        "for epoch in range(num_epoch):\n",
        "    train_acc = 0.0\n",
        "    train_loss = 0.0\n",
        "    val_acc = 0.0\n",
        "    val_loss = 0.0\n",
        "\n",
        "    # training\n",
        "    model.train() # set the model to training mode\n",
        "    for i, data in enumerate(train_loader):\n",
        "        inputs, labels = data\n",
        "        inputs, labels = inputs.to(device), labels.to(device)\n",
        "        optimizer.zero_grad() \n",
        "        outputs = model(inputs) \n",
        "        batch_loss = criterion(outputs, labels)\n",
        "        _, train_pred = torch.max(outputs, 1) # get the index of the class with the highest probability\n",
        "        batch_loss.backward() \n",
        "        optimizer.step() \n",
        "\n",
        "        train_acc += (train_pred.cpu() == labels.cpu()).sum().item()\n",
        "        train_loss += batch_loss.item()\n",
        "\n",
        "    # validation\n",
        "    if len(val_set) > 0:\n",
        "        model.eval() # set the model to evaluation mode\n",
        "        with torch.no_grad():\n",
        "            for i, data in enumerate(val_loader):\n",
        "                inputs, labels = data\n",
        "                inputs, labels = inputs.to(device), labels.to(device)\n",
        "                outputs = model(inputs)\n",
        "                batch_loss = criterion(outputs, labels) \n",
        "                _, val_pred = torch.max(outputs, 1) \n",
        "            \n",
        "                val_acc += (val_pred.cpu() == labels.cpu()).sum().item() # get the index of the class with the highest probability\n",
        "                val_loss += batch_loss.item()\n",
        "\n",
        "            print('[{:03d}/{:03d}] Train Acc: {:3.6f} Loss: {:3.6f} | Val Acc: {:3.6f} loss: {:3.6f}'.format(\n",
        "                epoch + 1, num_epoch, train_acc/len(train_set), train_loss/len(train_loader), val_acc/len(val_set), val_loss/len(val_loader)\n",
        "            ))\n",
        "\n",
        "            # if the model improves, save a checkpoint at this epoch\n",
        "            if val_acc > best_acc:\n",
        "                best_acc = val_acc\n",
        "                torch.save(model.state_dict(), model_path)\n",
        "                print('saving model with acc {:.3f}'.format(best_acc/len(val_set)))\n",
        "    else:\n",
        "        print('[{:03d}/{:03d}] Train Acc: {:3.6f} Loss: {:3.6f}'.format(\n",
        "            epoch + 1, num_epoch, train_acc/len(train_set), train_loss/len(train_loader)\n",
        "        ))\n",
        "\n",
        "# if not validating, save the last epoch\n",
        "if len(val_set) == 0:\n",
        "    torch.save(model.state_dict(), model_path)\n",
        "    print('saving model at last epoch')\n"
      ],
      "execution_count": 14,
      "outputs": [
        {
          "output_type": "stream",
          "text": [
            "[001/150] Train Acc: 0.562479 Loss: 1.427214 | Val Acc: 0.661470 loss: 1.075574\n",
            "saving model with acc 0.661\n",
            "[002/150] Train Acc: 0.627816 Loss: 1.189275 | Val Acc: 0.689207 loss: 0.973180\n",
            "saving model with acc 0.689\n",
            "[003/150] Train Acc: 0.652041 Loss: 1.101540 | Val Acc: 0.704814 loss: 0.921124\n",
            "saving model with acc 0.705\n",
            "[004/150] Train Acc: 0.666757 Loss: 1.047010 | Val Acc: 0.711737 loss: 0.890391\n",
            "saving model with acc 0.712\n",
            "[005/150] Train Acc: 0.677779 Loss: 1.008429 | Val Acc: 0.720607 loss: 0.859708\n",
            "saving model with acc 0.721\n",
            "[006/150] Train Acc: 0.686410 Loss: 0.977727 | Val Acc: 0.726494 loss: 0.839284\n",
            "saving model with acc 0.726\n",
            "[007/150] Train Acc: 0.693130 Loss: 0.953836 | Val Acc: 0.730250 loss: 0.824327\n",
            "saving model with acc 0.730\n",
            "[008/150] Train Acc: 0.698807 Loss: 0.932054 | Val Acc: 0.734271 loss: 0.811812\n",
            "saving model with acc 0.734\n",
            "[009/150] Train Acc: 0.704012 Loss: 0.913170 | Val Acc: 0.738795 loss: 0.795058\n",
            "saving model with acc 0.739\n",
            "[010/150] Train Acc: 0.707639 Loss: 0.898841 | Val Acc: 0.739958 loss: 0.789763\n",
            "saving model with acc 0.740\n",
            "[011/150] Train Acc: 0.712148 Loss: 0.883469 | Val Acc: 0.742141 loss: 0.782116\n",
            "saving model with acc 0.742\n",
            "[012/150] Train Acc: 0.715726 Loss: 0.870846 | Val Acc: 0.743405 loss: 0.777839\n",
            "saving model with acc 0.743\n",
            "[013/150] Train Acc: 0.718908 Loss: 0.859536 | Val Acc: 0.745629 loss: 0.771101\n",
            "saving model with acc 0.746\n",
            "[014/150] Train Acc: 0.721548 Loss: 0.849547 | Val Acc: 0.746096 loss: 0.768356\n",
            "saving model with acc 0.746\n",
            "[015/150] Train Acc: 0.724565 Loss: 0.838795 | Val Acc: 0.747251 loss: 0.763277\n",
            "saving model with acc 0.747\n",
            "[016/150] Train Acc: 0.727291 Loss: 0.829180 | Val Acc: 0.746808 loss: 0.763702\n",
            "[017/150] Train Acc: 0.729390 Loss: 0.819975 | Val Acc: 0.750885 loss: 0.752296\n",
            "saving model with acc 0.751\n",
            "[018/150] Train Acc: 0.731436 Loss: 0.813074 | Val Acc: 0.750194 loss: 0.751548\n",
            "[019/150] Train Acc: 0.733184 Loss: 0.806221 | Val Acc: 0.751450 loss: 0.749738\n",
            "saving model with acc 0.751\n",
            "[020/150] Train Acc: 0.736470 Loss: 0.798099 | Val Acc: 0.751401 loss: 0.748510\n",
            "[021/150] Train Acc: 0.737640 Loss: 0.791649 | Val Acc: 0.752885 loss: 0.744411\n",
            "saving model with acc 0.753\n",
            "[022/150] Train Acc: 0.739819 Loss: 0.784231 | Val Acc: 0.753597 loss: 0.746570\n",
            "saving model with acc 0.754\n",
            "[023/150] Train Acc: 0.741474 Loss: 0.778196 | Val Acc: 0.753743 loss: 0.742245\n",
            "saving model with acc 0.754\n",
            "[024/150] Train Acc: 0.743186 Loss: 0.771798 | Val Acc: 0.754731 loss: 0.737118\n",
            "saving model with acc 0.755\n",
            "[025/150] Train Acc: 0.744444 Loss: 0.766606 | Val Acc: 0.753804 loss: 0.740095\n",
            "[026/150] Train Acc: 0.746197 Loss: 0.761967 | Val Acc: 0.756105 loss: 0.736164\n",
            "saving model with acc 0.756\n",
            "[027/150] Train Acc: 0.747593 Loss: 0.756658 | Val Acc: 0.755166 loss: 0.737885\n",
            "[028/150] Train Acc: 0.749151 Loss: 0.751250 | Val Acc: 0.757434 loss: 0.733465\n",
            "saving model with acc 0.757\n",
            "[029/150] Train Acc: 0.749882 Loss: 0.746599 | Val Acc: 0.757963 loss: 0.730467\n",
            "saving model with acc 0.758\n",
            "[030/150] Train Acc: 0.751467 Loss: 0.741059 | Val Acc: 0.757918 loss: 0.733164\n",
            "[031/150] Train Acc: 0.752689 Loss: 0.738181 | Val Acc: 0.757089 loss: 0.732691\n",
            "[032/150] Train Acc: 0.754284 Loss: 0.731504 | Val Acc: 0.760829 loss: 0.723447\n",
            "saving model with acc 0.761\n",
            "[033/150] Train Acc: 0.755276 Loss: 0.730288 | Val Acc: 0.758829 loss: 0.727155\n",
            "[034/150] Train Acc: 0.756322 Loss: 0.724890 | Val Acc: 0.759508 loss: 0.726112\n",
            "[035/150] Train Acc: 0.757773 Loss: 0.722178 | Val Acc: 0.759691 loss: 0.726709\n",
            "[036/150] Train Acc: 0.758837 Loss: 0.718162 | Val Acc: 0.761390 loss: 0.722763\n",
            "saving model with acc 0.761\n",
            "[037/150] Train Acc: 0.759909 Loss: 0.713014 | Val Acc: 0.760768 loss: 0.722550\n",
            "[038/150] Train Acc: 0.760590 Loss: 0.710896 | Val Acc: 0.761479 loss: 0.723063\n",
            "saving model with acc 0.761\n",
            "[039/150] Train Acc: 0.761598 Loss: 0.707422 | Val Acc: 0.761638 loss: 0.721188\n",
            "saving model with acc 0.762\n",
            "[040/150] Train Acc: 0.762398 Loss: 0.704717 | Val Acc: 0.761817 loss: 0.721242\n",
            "saving model with acc 0.762\n",
            "[041/150] Train Acc: 0.763223 Loss: 0.700903 | Val Acc: 0.762829 loss: 0.717728\n",
            "saving model with acc 0.763\n",
            "[042/150] Train Acc: 0.764235 Loss: 0.698892 | Val Acc: 0.761646 loss: 0.721927\n",
            "[043/150] Train Acc: 0.764986 Loss: 0.695122 | Val Acc: 0.762634 loss: 0.714758\n",
            "[044/150] Train Acc: 0.765705 Loss: 0.692449 | Val Acc: 0.761479 loss: 0.723870\n",
            "[045/150] Train Acc: 0.767089 Loss: 0.688523 | Val Acc: 0.762036 loss: 0.720358\n",
            "[046/150] Train Acc: 0.766918 Loss: 0.688704 | Val Acc: 0.762069 loss: 0.721413\n",
            "[047/150] Train Acc: 0.768057 Loss: 0.684227 | Val Acc: 0.763414 loss: 0.716460\n",
            "saving model with acc 0.763\n",
            "[048/150] Train Acc: 0.768970 Loss: 0.681393 | Val Acc: 0.762309 loss: 0.720559\n",
            "[049/150] Train Acc: 0.769266 Loss: 0.678797 | Val Acc: 0.763951 loss: 0.717179\n",
            "saving model with acc 0.764\n",
            "[050/150] Train Acc: 0.771035 Loss: 0.676320 | Val Acc: 0.762118 loss: 0.723997\n",
            "[051/150] Train Acc: 0.771373 Loss: 0.673189 | Val Acc: 0.763447 loss: 0.719143\n",
            "[052/150] Train Acc: 0.772714 Loss: 0.669876 | Val Acc: 0.764829 loss: 0.714295\n",
            "saving model with acc 0.765\n",
            "[053/150] Train Acc: 0.773025 Loss: 0.668263 | Val Acc: 0.763975 loss: 0.716753\n",
            "[054/150] Train Acc: 0.773153 Loss: 0.666892 | Val Acc: 0.765260 loss: 0.715478\n",
            "saving model with acc 0.765\n",
            "[055/150] Train Acc: 0.773969 Loss: 0.665151 | Val Acc: 0.764252 loss: 0.716479\n",
            "[056/150] Train Acc: 0.774312 Loss: 0.662551 | Val Acc: 0.765410 loss: 0.714168\n",
            "saving model with acc 0.765\n",
            "[057/150] Train Acc: 0.775407 Loss: 0.660325 | Val Acc: 0.764427 loss: 0.722164\n",
            "[058/150] Train Acc: 0.775953 Loss: 0.658498 | Val Acc: 0.765211 loss: 0.715942\n",
            "[059/150] Train Acc: 0.777189 Loss: 0.655006 | Val Acc: 0.765353 loss: 0.717949\n",
            "[060/150] Train Acc: 0.776747 Loss: 0.654164 | Val Acc: 0.763760 loss: 0.719922\n",
            "[061/150] Train Acc: 0.777281 Loss: 0.651781 | Val Acc: 0.764504 loss: 0.714742\n",
            "[062/150] Train Acc: 0.777666 Loss: 0.650643 | Val Acc: 0.765463 loss: 0.715944\n",
            "saving model with acc 0.765\n",
            "[063/150] Train Acc: 0.779102 Loss: 0.647674 | Val Acc: 0.765028 loss: 0.717821\n",
            "[064/150] Train Acc: 0.778523 Loss: 0.647049 | Val Acc: 0.764731 loss: 0.716555\n",
            "[065/150] Train Acc: 0.780144 Loss: 0.644014 | Val Acc: 0.764597 loss: 0.714133\n",
            "[066/150] Train Acc: 0.780881 Loss: 0.641881 | Val Acc: 0.765175 loss: 0.714419\n",
            "[067/150] Train Acc: 0.781114 Loss: 0.640249 | Val Acc: 0.765179 loss: 0.719746\n",
            "[068/150] Train Acc: 0.781766 Loss: 0.638500 | Val Acc: 0.765435 loss: 0.713960\n",
            "[069/150] Train Acc: 0.782333 Loss: 0.636903 | Val Acc: 0.765870 loss: 0.716204\n",
            "saving model with acc 0.766\n",
            "[070/150] Train Acc: 0.782026 Loss: 0.636525 | Val Acc: 0.766240 loss: 0.718626\n",
            "saving model with acc 0.766\n",
            "[071/150] Train Acc: 0.782777 Loss: 0.633411 | Val Acc: 0.766313 loss: 0.721312\n",
            "saving model with acc 0.766\n",
            "[072/150] Train Acc: 0.783415 Loss: 0.632865 | Val Acc: 0.765256 loss: 0.719293\n",
            "[073/150] Train Acc: 0.783876 Loss: 0.629733 | Val Acc: 0.765313 loss: 0.718427\n",
            "[074/150] Train Acc: 0.784342 Loss: 0.628762 | Val Acc: 0.767402 loss: 0.715312\n",
            "saving model with acc 0.767\n",
            "[075/150] Train Acc: 0.784900 Loss: 0.626829 | Val Acc: 0.766053 loss: 0.719979\n",
            "[076/150] Train Acc: 0.785444 Loss: 0.625424 | Val Acc: 0.767593 loss: 0.712610\n",
            "saving model with acc 0.768\n",
            "[077/150] Train Acc: 0.785608 Loss: 0.624299 | Val Acc: 0.766687 loss: 0.714670\n",
            "[078/150] Train Acc: 0.785408 Loss: 0.623610 | Val Acc: 0.765707 loss: 0.719532\n",
            "[079/150] Train Acc: 0.786461 Loss: 0.622075 | Val Acc: 0.765817 loss: 0.719546\n",
            "[080/150] Train Acc: 0.787683 Loss: 0.617731 | Val Acc: 0.765284 loss: 0.724916\n",
            "[081/150] Train Acc: 0.787704 Loss: 0.618746 | Val Acc: 0.766780 loss: 0.717405\n",
            "[082/150] Train Acc: 0.788132 Loss: 0.616899 | Val Acc: 0.767130 loss: 0.717583\n",
            "[083/150] Train Acc: 0.788381 Loss: 0.615915 | Val Acc: 0.766711 loss: 0.724598\n",
            "[084/150] Train Acc: 0.788228 Loss: 0.615896 | Val Acc: 0.767065 loss: 0.715651\n",
            "[085/150] Train Acc: 0.788999 Loss: 0.613747 | Val Acc: 0.767902 loss: 0.720111\n",
            "saving model with acc 0.768\n",
            "[086/150] Train Acc: 0.790238 Loss: 0.611238 | Val Acc: 0.766601 loss: 0.721393\n",
            "[087/150] Train Acc: 0.790069 Loss: 0.610348 | Val Acc: 0.766045 loss: 0.721215\n",
            "[088/150] Train Acc: 0.790754 Loss: 0.608143 | Val Acc: 0.767093 loss: 0.718151\n",
            "[089/150] Train Acc: 0.790411 Loss: 0.608065 | Val Acc: 0.766378 loss: 0.722079\n",
            "[090/150] Train Acc: 0.791332 Loss: 0.605954 | Val Acc: 0.767000 loss: 0.720583\n",
            "[091/150] Train Acc: 0.791502 Loss: 0.605368 | Val Acc: 0.766423 loss: 0.720344\n",
            "[092/150] Train Acc: 0.792027 Loss: 0.603950 | Val Acc: 0.766780 loss: 0.717210\n",
            "[093/150] Train Acc: 0.792394 Loss: 0.602133 | Val Acc: 0.766744 loss: 0.716369\n",
            "[094/150] Train Acc: 0.792671 Loss: 0.601703 | Val Acc: 0.767740 loss: 0.717447\n",
            "[095/150] Train Acc: 0.793059 Loss: 0.600015 | Val Acc: 0.766996 loss: 0.720810\n",
            "[096/150] Train Acc: 0.793287 Loss: 0.598499 | Val Acc: 0.767081 loss: 0.721949\n",
            "[097/150] Train Acc: 0.793730 Loss: 0.597722 | Val Acc: 0.766569 loss: 0.724705\n",
            "[098/150] Train Acc: 0.794183 Loss: 0.597555 | Val Acc: 0.768309 loss: 0.716394\n",
            "saving model with acc 0.768\n",
            "[099/150] Train Acc: 0.793967 Loss: 0.596044 | Val Acc: 0.766723 loss: 0.719965\n",
            "[100/150] Train Acc: 0.794564 Loss: 0.594597 | Val Acc: 0.767581 loss: 0.717019\n",
            "[101/150] Train Acc: 0.795205 Loss: 0.593685 | Val Acc: 0.767447 loss: 0.717848\n",
            "[102/150] Train Acc: 0.795126 Loss: 0.593642 | Val Acc: 0.766390 loss: 0.723344\n",
            "[103/150] Train Acc: 0.795780 Loss: 0.592104 | Val Acc: 0.767329 loss: 0.722138\n",
            "[104/150] Train Acc: 0.795261 Loss: 0.591306 | Val Acc: 0.767240 loss: 0.720710\n",
            "[105/150] Train Acc: 0.796147 Loss: 0.590771 | Val Acc: 0.769228 loss: 0.720210\n",
            "saving model with acc 0.769\n",
            "[106/150] Train Acc: 0.796207 Loss: 0.589300 | Val Acc: 0.767699 loss: 0.719836\n",
            "[107/150] Train Acc: 0.796746 Loss: 0.588917 | Val Acc: 0.766788 loss: 0.727522\n",
            "[108/150] Train Acc: 0.796575 Loss: 0.587325 | Val Acc: 0.767675 loss: 0.719689\n",
            "[109/150] Train Acc: 0.797887 Loss: 0.584832 | Val Acc: 0.768370 loss: 0.718338\n",
            "[110/150] Train Acc: 0.797677 Loss: 0.585223 | Val Acc: 0.765073 loss: 0.729344\n",
            "[111/150] Train Acc: 0.798000 Loss: 0.583343 | Val Acc: 0.766988 loss: 0.726588\n",
            "[112/150] Train Acc: 0.798891 Loss: 0.581303 | Val Acc: 0.766675 loss: 0.724116\n",
            "[113/150] Train Acc: 0.798853 Loss: 0.580233 | Val Acc: 0.767894 loss: 0.725078\n",
            "[114/150] Train Acc: 0.798483 Loss: 0.580778 | Val Acc: 0.766496 loss: 0.733892\n",
            "[115/150] Train Acc: 0.799222 Loss: 0.579960 | Val Acc: 0.767577 loss: 0.725085\n",
            "[116/150] Train Acc: 0.799633 Loss: 0.578301 | Val Acc: 0.767459 loss: 0.730034\n",
            "[117/150] Train Acc: 0.800035 Loss: 0.577022 | Val Acc: 0.768252 loss: 0.722910\n",
            "[118/150] Train Acc: 0.799391 Loss: 0.578647 | Val Acc: 0.766764 loss: 0.725145\n",
            "[119/150] Train Acc: 0.800266 Loss: 0.577235 | Val Acc: 0.767744 loss: 0.723595\n",
            "[120/150] Train Acc: 0.800017 Loss: 0.576820 | Val Acc: 0.767711 loss: 0.724315\n",
            "[121/150] Train Acc: 0.800942 Loss: 0.574740 | Val Acc: 0.767146 loss: 0.723233\n",
            "[122/150] Train Acc: 0.801294 Loss: 0.573732 | Val Acc: 0.767597 loss: 0.727142\n",
            "[123/150] Train Acc: 0.801764 Loss: 0.572524 | Val Acc: 0.767203 loss: 0.729771\n",
            "[124/150] Train Acc: 0.801660 Loss: 0.572201 | Val Acc: 0.767801 loss: 0.728382\n",
            "[125/150] Train Acc: 0.801925 Loss: 0.571105 | Val Acc: 0.766988 loss: 0.726800\n",
            "[126/150] Train Acc: 0.801576 Loss: 0.571735 | Val Acc: 0.767671 loss: 0.732326\n",
            "[127/150] Train Acc: 0.802599 Loss: 0.569037 | Val Acc: 0.767821 loss: 0.720146\n",
            "[128/150] Train Acc: 0.802415 Loss: 0.569575 | Val Acc: 0.767000 loss: 0.730614\n",
            "[129/150] Train Acc: 0.802911 Loss: 0.568297 | Val Acc: 0.768061 loss: 0.723596\n",
            "[130/150] Train Acc: 0.803710 Loss: 0.566903 | Val Acc: 0.768081 loss: 0.722777\n",
            "[131/150] Train Acc: 0.803611 Loss: 0.565568 | Val Acc: 0.768565 loss: 0.727610\n",
            "[132/150] Train Acc: 0.803155 Loss: 0.565395 | Val Acc: 0.767370 loss: 0.730366\n",
            "[133/150] Train Acc: 0.803705 Loss: 0.566054 | Val Acc: 0.767845 loss: 0.726195\n",
            "[134/150] Train Acc: 0.804212 Loss: 0.562802 | Val Acc: 0.767910 loss: 0.724270\n",
            "[135/150] Train Acc: 0.804707 Loss: 0.562374 | Val Acc: 0.766667 loss: 0.732932\n",
            "[136/150] Train Acc: 0.804449 Loss: 0.563205 | Val Acc: 0.769333 loss: 0.725197\n",
            "saving model with acc 0.769\n",
            "[137/150] Train Acc: 0.804846 Loss: 0.562709 | Val Acc: 0.767102 loss: 0.726516\n",
            "[138/150] Train Acc: 0.805355 Loss: 0.560496 | Val Acc: 0.767528 loss: 0.729719\n",
            "[139/150] Train Acc: 0.805850 Loss: 0.559868 | Val Acc: 0.768118 loss: 0.731689\n",
            "[140/150] Train Acc: 0.805477 Loss: 0.560409 | Val Acc: 0.766589 loss: 0.732807\n",
            "[141/150] Train Acc: 0.805698 Loss: 0.559419 | Val Acc: 0.767679 loss: 0.728422\n",
            "[142/150] Train Acc: 0.806312 Loss: 0.558491 | Val Acc: 0.767126 loss: 0.729349\n",
            "[143/150] Train Acc: 0.805655 Loss: 0.558241 | Val Acc: 0.767809 loss: 0.726243\n",
            "[144/150] Train Acc: 0.806474 Loss: 0.557523 | Val Acc: 0.768707 loss: 0.730705\n",
            "[145/150] Train Acc: 0.806818 Loss: 0.556347 | Val Acc: 0.767789 loss: 0.727598\n",
            "[146/150] Train Acc: 0.806821 Loss: 0.555784 | Val Acc: 0.767130 loss: 0.731328\n",
            "[147/150] Train Acc: 0.807300 Loss: 0.555208 | Val Acc: 0.766467 loss: 0.737195\n",
            "[148/150] Train Acc: 0.807065 Loss: 0.554526 | Val Acc: 0.767248 loss: 0.732309\n",
            "[149/150] Train Acc: 0.807322 Loss: 0.553691 | Val Acc: 0.766516 loss: 0.732632\n",
            "[150/150] Train Acc: 0.807211 Loss: 0.554136 | Val Acc: 0.768719 loss: 0.730663\n"
          ],
          "name": "stdout"
        }
      ]
    },
    {
      "cell_type": "markdown",
      "metadata": {
        "id": "1Hi7jTn3PX-m"
      },
      "source": [
        "## Testing"
      ]
    },
    {
      "cell_type": "markdown",
      "metadata": {
        "id": "NfUECMFCn5VG"
      },
      "source": [
        "Create a testing dataset, and load model from the saved checkpoint."
      ]
    },
    {
      "cell_type": "code",
      "metadata": {
        "id": "1PKjtAScPWtr",
        "colab": {
          "base_uri": "https://localhost:8080/"
        },
        "outputId": "c9490824-ab73-4046-a285-2023608964d7"
      },
      "source": [
        "# create testing dataset\n",
        "test_set = TIMITDataset(test, None)\n",
        "test_loader = DataLoader(test_set, batch_size=BATCH_SIZE, shuffle=False)\n",
        "\n",
        "# create model and load weights from checkpoint\n",
        "model = Classifier().to(device)\n",
        "model.load_state_dict(torch.load(model_path))"
      ],
      "execution_count": 15,
      "outputs": [
        {
          "output_type": "execute_result",
          "data": {
            "text/plain": [
              "<All keys matched successfully>"
            ]
          },
          "metadata": {
            "tags": []
          },
          "execution_count": 15
        }
      ]
    },
    {
      "cell_type": "markdown",
      "metadata": {
        "id": "940TtCCdoYd0"
      },
      "source": [
        "Make prediction."
      ]
    },
    {
      "cell_type": "code",
      "metadata": {
        "id": "84HU5GGjPqR0"
      },
      "source": [
        "predict = []\n",
        "model.eval() # set the model to evaluation mode\n",
        "with torch.no_grad():\n",
        "    for i, data in enumerate(test_loader):\n",
        "        inputs = data\n",
        "        inputs = inputs.to(device)\n",
        "        outputs = model(inputs)\n",
        "        _, test_pred = torch.max(outputs, 1) # get the index of the class with the highest probability\n",
        "\n",
        "        for y in test_pred.cpu().numpy():\n",
        "            predict.append(y)"
      ],
      "execution_count": 16,
      "outputs": []
    },
    {
      "cell_type": "markdown",
      "metadata": {
        "id": "AWDf_C-omElb"
      },
      "source": [
        "Write prediction to a CSV file.\n",
        "\n",
        "After finish running this block, download the file `prediction.csv` from the files section on the left-hand side and submit it to Kaggle."
      ]
    },
    {
      "cell_type": "code",
      "metadata": {
        "id": "GuljYSPHcZir"
      },
      "source": [
        "with open('prediction.csv', 'w') as f:\n",
        "    f.write('Id,Class\\n')\n",
        "    for i, y in enumerate(predict):\n",
        "        f.write('{},{}\\n'.format(i, y))"
      ],
      "execution_count": 18,
      "outputs": []
    },
    {
      "cell_type": "markdown",
      "metadata": {
        "id": "AHw73tVgRhP2"
      },
      "source": [
        "Do voting ensemble to 10 outcome to produce a new prediction as final outcome"
      ]
    }
  ]
}