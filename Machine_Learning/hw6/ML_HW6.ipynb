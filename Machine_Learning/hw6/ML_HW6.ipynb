{
  "nbformat": 4,
  "nbformat_minor": 0,
  "metadata": {
    "colab": {
      "name": "ML_HW6.ipynb",
      "provenance": [],
      "machine_shape": "hm"
    },
    "kernelspec": {
      "name": "python3",
      "display_name": "Python 3"
    },
    "language_info": {
      "name": "python"
    },
    "accelerator": "GPU"
  },
  "cells": [
    {
      "cell_type": "code",
      "metadata": {
        "id": "CcjIB5-23RWD"
      },
      "source": [
        "# You may replace the workspace directory if you want.\n",
        "workspace_dir = '/content/drive/MyDrive/Colab_Notebooks/ML_hw6'"
      ],
      "execution_count": null,
      "outputs": []
    },
    {
      "cell_type": "code",
      "metadata": {
        "id": "chkRXv2LcbSt"
      },
      "source": [
        "# Training progress bar\n",
        "!pip install -q qqdm"
      ],
      "execution_count": null,
      "outputs": []
    },
    {
      "cell_type": "code",
      "metadata": {
        "id": "a3aCnCLE4uH_"
      },
      "source": [
        "!gdown --id 131zPaVoi-U--XThvzgRfaxrumc3YSBd3 --output \"{workspace_dir}/crypko_data.zip\"\n",
        "!unzip -q \"{workspace_dir}/crypko_data.zip\" -d \"{workspace_dir}/\""
      ],
      "execution_count": null,
      "outputs": []
    },
    {
      "cell_type": "code",
      "metadata": {
        "colab": {
          "base_uri": "https://localhost:8080/"
        },
        "id": "0Y-iA9u1eCre",
        "outputId": "583210c8-0816-4cc7-d024-e523b5f6fdd4"
      },
      "source": [
        "pip install stylegan2_pytorch"
      ],
      "execution_count": null,
      "outputs": [
        {
          "output_type": "stream",
          "text": [
            "Requirement already satisfied: stylegan2_pytorch in /usr/local/lib/python3.7/dist-packages (1.8.1)\n",
            "Requirement already satisfied: torch in /usr/local/lib/python3.7/dist-packages (from stylegan2_pytorch) (1.8.1+cu101)\n",
            "Requirement already satisfied: vector-quantize-pytorch>=0.1.0 in /usr/local/lib/python3.7/dist-packages (from stylegan2_pytorch) (0.1.0)\n",
            "Requirement already satisfied: contrastive-learner>=0.1.0 in /usr/local/lib/python3.7/dist-packages (from stylegan2_pytorch) (0.1.1)\n",
            "Requirement already satisfied: tqdm in /usr/local/lib/python3.7/dist-packages (from stylegan2_pytorch) (4.41.1)\n",
            "Requirement already satisfied: kornia in /usr/local/lib/python3.7/dist-packages (from stylegan2_pytorch) (0.5.1)\n",
            "Requirement already satisfied: torchvision in /usr/local/lib/python3.7/dist-packages (from stylegan2_pytorch) (0.9.1+cu101)\n",
            "Requirement already satisfied: fire in /usr/local/lib/python3.7/dist-packages (from stylegan2_pytorch) (0.4.0)\n",
            "Requirement already satisfied: aim in /usr/local/lib/python3.7/dist-packages (from stylegan2_pytorch) (2.3.0)\n",
            "Requirement already satisfied: einops in /usr/local/lib/python3.7/dist-packages (from stylegan2_pytorch) (0.3.0)\n",
            "Requirement already satisfied: numpy in /usr/local/lib/python3.7/dist-packages (from stylegan2_pytorch) (1.19.5)\n",
            "Requirement already satisfied: pillow in /usr/local/lib/python3.7/dist-packages (from stylegan2_pytorch) (7.1.2)\n",
            "Requirement already satisfied: retry in /usr/local/lib/python3.7/dist-packages (from stylegan2_pytorch) (0.9.2)\n",
            "Requirement already satisfied: typing-extensions in /usr/local/lib/python3.7/dist-packages (from torch->stylegan2_pytorch) (3.7.4.3)\n",
            "Requirement already satisfied: six in /usr/local/lib/python3.7/dist-packages (from fire->stylegan2_pytorch) (1.15.0)\n",
            "Requirement already satisfied: termcolor in /usr/local/lib/python3.7/dist-packages (from fire->stylegan2_pytorch) (1.1.0)\n",
            "Requirement already satisfied: aimrecords==0.0.7 in /usr/local/lib/python3.7/dist-packages (from aim->stylegan2_pytorch) (0.0.7)\n",
            "Requirement already satisfied: pyrser>=0.2.0 in /usr/local/lib/python3.7/dist-packages (from aim->stylegan2_pytorch) (0.2.0)\n",
            "Requirement already satisfied: psutil>=5.6.7 in /usr/local/lib/python3.7/dist-packages (from aim->stylegan2_pytorch) (5.8.0)\n",
            "Requirement already satisfied: GitPython>=3.0.4 in /usr/local/lib/python3.7/dist-packages (from aim->stylegan2_pytorch) (3.1.14)\n",
            "Requirement already satisfied: protobuf>=3.11.0 in /usr/local/lib/python3.7/dist-packages (from aim->stylegan2_pytorch) (3.12.4)\n",
            "Requirement already satisfied: click>=6.7 in /usr/local/lib/python3.7/dist-packages (from aim->stylegan2_pytorch) (7.1.2)\n",
            "Requirement already satisfied: anytree>=2.8.0 in /usr/local/lib/python3.7/dist-packages (from aim->stylegan2_pytorch) (2.8.0)\n",
            "Requirement already satisfied: requests>=2.0.0 in /usr/local/lib/python3.7/dist-packages (from aim->stylegan2_pytorch) (2.23.0)\n",
            "Requirement already satisfied: py3nvml>=0.2.5 in /usr/local/lib/python3.7/dist-packages (from aim->stylegan2_pytorch) (0.2.6)\n",
            "Requirement already satisfied: docker>=4.1.0 in /usr/local/lib/python3.7/dist-packages (from aim->stylegan2_pytorch) (5.0.0)\n",
            "Requirement already satisfied: decorator>=3.4.2 in /usr/local/lib/python3.7/dist-packages (from retry->stylegan2_pytorch) (4.4.2)\n",
            "Requirement already satisfied: py<2.0.0,>=1.4.26 in /usr/local/lib/python3.7/dist-packages (from retry->stylegan2_pytorch) (1.10.0)\n",
            "Requirement already satisfied: base58==2.0.1 in /usr/local/lib/python3.7/dist-packages (from aimrecords==0.0.7->aim->stylegan2_pytorch) (2.0.1)\n",
            "Requirement already satisfied: gitdb<5,>=4.0.1 in /usr/local/lib/python3.7/dist-packages (from GitPython>=3.0.4->aim->stylegan2_pytorch) (4.0.7)\n",
            "Requirement already satisfied: setuptools in /usr/local/lib/python3.7/dist-packages (from protobuf>=3.11.0->aim->stylegan2_pytorch) (56.1.0)\n",
            "Requirement already satisfied: urllib3!=1.25.0,!=1.25.1,<1.26,>=1.21.1 in /usr/local/lib/python3.7/dist-packages (from requests>=2.0.0->aim->stylegan2_pytorch) (1.24.3)\n",
            "Requirement already satisfied: certifi>=2017.4.17 in /usr/local/lib/python3.7/dist-packages (from requests>=2.0.0->aim->stylegan2_pytorch) (2020.12.5)\n",
            "Requirement already satisfied: chardet<4,>=3.0.2 in /usr/local/lib/python3.7/dist-packages (from requests>=2.0.0->aim->stylegan2_pytorch) (3.0.4)\n",
            "Requirement already satisfied: idna<3,>=2.5 in /usr/local/lib/python3.7/dist-packages (from requests>=2.0.0->aim->stylegan2_pytorch) (2.10)\n",
            "Requirement already satisfied: xmltodict in /usr/local/lib/python3.7/dist-packages (from py3nvml>=0.2.5->aim->stylegan2_pytorch) (0.12.0)\n",
            "Requirement already satisfied: websocket-client>=0.32.0 in /usr/local/lib/python3.7/dist-packages (from docker>=4.1.0->aim->stylegan2_pytorch) (0.59.0)\n",
            "Requirement already satisfied: smmap<5,>=3.0.1 in /usr/local/lib/python3.7/dist-packages (from gitdb<5,>=4.0.1->GitPython>=3.0.4->aim->stylegan2_pytorch) (4.0.0)\n"
          ],
          "name": "stdout"
        }
      ]
    },
    {
      "cell_type": "code",
      "metadata": {
        "colab": {
          "base_uri": "https://localhost:8080/"
        },
        "id": "XsPlSrPhiOe-",
        "outputId": "05c26eac-5477-40fe-9221-34bb712db65f"
      },
      "source": [
        "!stylegan2_pytorch --help"
      ],
      "execution_count": null,
      "outputs": [
        {
          "output_type": "stream",
          "text": [
            "INFO: Showing help with the command 'stylegan2_pytorch -- --help'.\n",
            "\n",
            "\u001b[1mNAME\u001b[0m\n",
            "    stylegan2_pytorch\n",
            "\n",
            "\u001b[1mSYNOPSIS\u001b[0m\n",
            "    stylegan2_pytorch <flags>\n",
            "\n",
            "\u001b[1mFLAGS\u001b[0m\n",
            "    --data=\u001b[4mDATA\u001b[0m\n",
            "        Default: './data'\n",
            "    --results_dir=\u001b[4mRESULTS_DIR\u001b[0m\n",
            "        Default: './results'\n",
            "    --models_dir=\u001b[4mMODELS_DIR\u001b[0m\n",
            "        Default: './models'\n",
            "    --name=\u001b[4mNAME\u001b[0m\n",
            "        Default: 'default'\n",
            "    --new=\u001b[4mNEW\u001b[0m\n",
            "        Default: False\n",
            "    --load_from=\u001b[4mLOAD_FROM\u001b[0m\n",
            "        Default: -1\n",
            "    --image_size=\u001b[4mIMAGE_SIZE\u001b[0m\n",
            "        Default: 128\n",
            "    --network_capacity=\u001b[4mNETWORK_CAPACITY\u001b[0m\n",
            "        Default: 16\n",
            "    --fmap_max=\u001b[4mFMAP_MAX\u001b[0m\n",
            "        Default: 512\n",
            "    --transparent=\u001b[4mTRANSPARENT\u001b[0m\n",
            "        Default: False\n",
            "    --batch_size=\u001b[4mBATCH_SIZE\u001b[0m\n",
            "        Default: 5\n",
            "    --gradient_accumulate_every=\u001b[4mGRADIENT_ACCUMULATE_EVERY\u001b[0m\n",
            "        Default: 6\n",
            "    --num_train_steps=\u001b[4mNUM_TRAIN_STEPS\u001b[0m\n",
            "        Default: 150000\n",
            "    --learning_rate=\u001b[4mLEARNING_RATE\u001b[0m\n",
            "        Default: 0.0002\n",
            "    --lr_mlp=\u001b[4mLR_MLP\u001b[0m\n",
            "        Default: 0.1\n",
            "    --ttur_mult=\u001b[4mTTUR_MULT\u001b[0m\n",
            "        Default: 1.5\n",
            "    --rel_disc_loss=\u001b[4mREL_DISC_LOSS\u001b[0m\n",
            "        Default: False\n",
            "    --num_workers=\u001b[4mNUM_WORKERS\u001b[0m\n",
            "        Type: Optional[]\n",
            "        Default: None\n",
            "    --save_every=\u001b[4mSAVE_EVERY\u001b[0m\n",
            "        Default: 1000\n",
            "    --evaluate_every=\u001b[4mEVALUATE_EVERY\u001b[0m\n",
            "        Default: 1000\n",
            "    --generate=\u001b[4mGENERATE\u001b[0m\n",
            "        Default: False\n",
            "    --num_generate=\u001b[4mNUM_GENERATE\u001b[0m\n",
            "        Default: 1\n",
            "    --generate_interpolation=\u001b[4mGENERATE_INTERPOLATION\u001b[0m\n",
            "        Default: False\n",
            "    --interpolation_num_steps=\u001b[4mINTERPOLATION_NUM_STEPS\u001b[0m\n",
            "        Default: 100\n",
            "    --save_frames=\u001b[4mSAVE_FRAMES\u001b[0m\n",
            "        Default: False\n",
            "    --num_image_tiles=\u001b[4mNUM_IMAGE_TILES\u001b[0m\n",
            "        Default: 8\n",
            "    --trunc_psi=\u001b[4mTRUNC_PSI\u001b[0m\n",
            "        Default: 0.75\n",
            "    --mixed_prob=\u001b[4mMIXED_PROB\u001b[0m\n",
            "        Default: 0.9\n",
            "    --fp16=\u001b[4mFP16\u001b[0m\n",
            "        Default: False\n",
            "    --no_pl_reg=\u001b[4mNO_PL_REG\u001b[0m\n",
            "        Default: False\n",
            "    --cl_reg=\u001b[4mCL_REG\u001b[0m\n",
            "        Default: False\n",
            "    --fq_layers=\u001b[4mFQ_LAYERS\u001b[0m\n",
            "        Default: []\n",
            "    --fq_dict_size=\u001b[4mFQ_DICT_SIZE\u001b[0m\n",
            "        Default: 256\n",
            "    --attn_layers=\u001b[4mATTN_LAYERS\u001b[0m\n",
            "        Default: []\n",
            "    --no_const=\u001b[4mNO_CONST\u001b[0m\n",
            "        Default: False\n",
            "    --aug_prob=\u001b[4mAUG_PROB\u001b[0m\n",
            "        Default: 0.0\n",
            "    --aug_types=\u001b[4mAUG_TYPES\u001b[0m\n",
            "        Default: ['translation', 'cutout']\n",
            "    --top_k_training=\u001b[4mTOP_K_TRAINING\u001b[0m\n",
            "        Default: False\n",
            "    --generator_top_k_gamma=\u001b[4mGENERATOR_TOP_K_GAMMA\u001b[0m\n",
            "        Default: 0.99\n",
            "    --generator_top_k_frac=\u001b[4mGENERATOR_TOP_K_FRAC\u001b[0m\n",
            "        Default: 0.5\n",
            "    --dual_contrast_loss=\u001b[4mDUAL_CONTRAST_LOSS\u001b[0m\n",
            "        Default: False\n",
            "    --dataset_aug_prob=\u001b[4mDATASET_AUG_PROB\u001b[0m\n",
            "        Default: 0.0\n",
            "    --multi_gpus=\u001b[4mMULTI_GPUS\u001b[0m\n",
            "        Default: False\n",
            "    --calculate_fid_every=\u001b[4mCALCULATE_FID_EVERY\u001b[0m\n",
            "        Type: Optional[]\n",
            "        Default: None\n",
            "    --calculate_fid_num_images=\u001b[4mCALCULATE_FID_NUM_IMAGES\u001b[0m\n",
            "        Default: 12800\n",
            "    --clear_fid_cache=\u001b[4mCLEAR_FID_CACHE\u001b[0m\n",
            "        Default: False\n",
            "    --seed=\u001b[4mSEED\u001b[0m\n",
            "        Default: 42\n",
            "    --log=\u001b[4mLOG\u001b[0m\n",
            "        Default: False\n"
          ],
          "name": "stdout"
        }
      ]
    },
    {
      "cell_type": "code",
      "metadata": {
        "id": "ofXqBG3IdTGJ"
      },
      "source": [
        "!stylegan2_pytorch --data /content/drive/MyDrive/Colab_Notebooks/ML_hw6/faces --results_dir /content/drive/MyDrive/Colab_Notebooks/ML_hw6/results --models_dir /content/drive/MyDrive/Colab_Notebooks/ML_hw6/models --image_size 64"
      ],
      "execution_count": null,
      "outputs": []
    },
    {
      "cell_type": "code",
      "metadata": {
        "id": "WaQQUgRdKx-c"
      },
      "source": [
        "!stylegan2_pytorch --data /content/drive/MyDrive/Colab_Notebooks/ML_hw6/faces --results_dir /content/drive/MyDrive/Colab_Notebooks/ML_hw6/results --models_dir /content/drive/MyDrive/Colab_Notebooks/ML_hw6/models --load-from 59 --image_size 64"
      ],
      "execution_count": null,
      "outputs": []
    },
    {
      "cell_type": "code",
      "metadata": {
        "id": "Ykp5bew72kW9"
      },
      "source": [
        "!stylegan2_pytorch --generate --load-from 69 --num_image_tiles 1 --num_generate 1000 --results_dir /content/drive/MyDrive/Colab_Notebooks/ML_hw6/outputs --models_dir /content/drive/MyDrive/Colab_Notebooks/ML_hw6/models"
      ],
      "execution_count": null,
      "outputs": []
    },
    {
      "cell_type": "code",
      "metadata": {
        "colab": {
          "base_uri": "https://localhost:8080/"
        },
        "id": "wEhGQ_YVmiF2",
        "outputId": "e7ed384a-ba03-4dad-f0cf-4e1e74623300"
      },
      "source": [
        "# Compress the images.\n",
        "%cd /content/drive/MyDrive/Colab_Notebooks/ML_hw6/outputs/default\n",
        "!tar -zcf ../images.tgz *.jpg\n",
        "%cd .."
      ],
      "execution_count": null,
      "outputs": [
        {
          "output_type": "stream",
          "text": [
            "/content/drive/MyDrive/Colab_Notebooks/ML_hw6/outputs/results\n",
            "/content/drive/My Drive/Colab_Notebooks/ML_hw6/outputs\n"
          ],
          "name": "stdout"
        }
      ]
    }
  ]
}