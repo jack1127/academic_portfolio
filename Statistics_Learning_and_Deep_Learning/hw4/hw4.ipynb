{
 "cells": [
  {
   "cell_type": "markdown",
   "metadata": {},
   "source": [
    "### 統計學習與深度學習 Homework 4"
   ]
  },
  {
   "cell_type": "code",
   "execution_count": 6,
   "metadata": {},
   "outputs": [
    {
     "name": "stdout",
     "output_type": "stream",
     "text": [
      "X_train shape =  (463715, 90)\n",
      "Y_train shape =  (463715,)\n",
      "X_test shape =  (51630, 90)\n"
     ]
    }
   ],
   "source": [
    "#load packages\n",
    "import torch\n",
    "import pickle\n",
    "import numpy as np\n",
    "from sklearn import preprocessing\n",
    "\n",
    "#Load data\n",
    "with open('data/msd_full.pickle', 'rb') as fh1:\n",
    "    msd_data = pickle.load(fh1)\n",
    "\n",
    "X_train = msd_data['X_train']\n",
    "X_test = msd_data['X_test']\n",
    "\n",
    "Y_train = msd_data['Y_train']\n",
    "Y_test = msd_data['Y_test'].astype('float32')\n",
    "X_test = X_test.astype('float32')\n",
    "\n",
    "\n",
    "print(\"X_train shape = \", X_train.shape)\n",
    "print(\"Y_train shape = \", Y_train.shape)\n",
    "\n",
    "print(\"X_test shape = \", X_test.shape)"
   ]
  },
  {
   "cell_type": "markdown",
   "metadata": {},
   "source": [
    "### Q1. OLS"
   ]
  },
  {
   "cell_type": "markdown",
   "metadata": {},
   "source": [
    "使用現有的OLS model做training"
   ]
  },
  {
   "cell_type": "code",
   "execution_count": 7,
   "metadata": {},
   "outputs": [],
   "source": [
    "import statsmodels.api as sm\n",
    "np.set_printoptions(suppress=True)\n",
    "\n",
    "#Q1 OLS\n",
    "X_train_OLS = sm.add_constant(X_train)\n",
    "model = sm.OLS(Y_train, X_train_OLS)\n",
    "result = model.fit()\n",
    "X_test_OLS = sm.add_constant(X_test)\n",
    "Y_pred = result.predict(X_test_OLS)\n",
    "RMSE_OLS = 0;\n",
    "\n",
    "for i in range(Y_test.shape[0]):\n",
    "\tRMSE_OLS += (Y_pred[i]-Y_test[i])**2\n",
    "RMSE_OLS = RMSE_OLS/Y_test.shape[0]\n",
    "RMSE_OLS = RMSE_OLS**0.5"
   ]
  },
  {
   "cell_type": "code",
   "execution_count": 35,
   "metadata": {},
   "outputs": [
    {
     "name": "stdout",
     "output_type": "stream",
     "text": [
      "RMSE of OLS = 9.510160685594299\n",
      "[ 0.          5.30975265 -2.88088114 -1.53234348  0.05737583 -0.33952889]\n"
     ]
    }
   ],
   "source": [
    "print(\"RMSE of OLS =\", RMSE_OLS);\n",
    "print(result.params[0:6])"
   ]
  },
  {
   "cell_type": "markdown",
   "metadata": {},
   "source": [
    "由於題目要求OLS模型加入常數項，params的第一項為截距項，後面五項才是所要的前五個特徵參數"
   ]
  },
  {
   "cell_type": "markdown",
   "metadata": {},
   "source": [
    "### data regularization, turn it to torch"
   ]
  },
  {
   "cell_type": "code",
   "execution_count": 24,
   "metadata": {},
   "outputs": [
    {
     "name": "stdout",
     "output_type": "stream",
     "text": [
      "X_subtrain shape =  (417344, 90)\n",
      "X_valid shape =  (46371, 90)\n",
      "Y_subtrain shape =  (417344,)\n",
      "Y_valid shape =  (46371,)\n"
     ]
    }
   ],
   "source": [
    "xscaler = preprocessing.StandardScaler().fit(msd_data['X_train'])\n",
    "#standardize feature values\n",
    "X_train = xscaler.transform(msd_data['X_train'])\n",
    "X_test = xscaler.transform(msd_data['X_test'])\n",
    "\n",
    "y_mean = Y_train.mean()\n",
    "Y_train_keep = Y_train.copy()\n",
    "Y_test_keep = Y_test.copy()\n",
    "Y_train = Y_train - y_mean\n",
    "Y_test = Y_test - y_mean\n",
    "\n",
    "#validation is the last 10% of training, subtraining is the first 90% of training\n",
    "nvalid = int(X_train.shape[0] * 0.1)\n",
    "nsubtrain = X_train.shape[0] - nvalid\n",
    "\n",
    "X_subtrain = X_train[0:nsubtrain, :].astype('float32')\n",
    "X_valid = X_train[nsubtrain:, :].astype('float32')\n",
    "Y_subtrain = Y_train[0:nsubtrain].astype('float32')\n",
    "Y_valid = Y_train[nsubtrain:].astype('float32')\n",
    "\n",
    "Y_subtrain_keep = Y_train_keep[0:nsubtrain].astype('float32')\n",
    "Y_valid_keep = Y_train_keep[nsubtrain:].astype('float32')\n",
    "\n",
    "print(\"X_subtrain shape = \", X_subtrain.shape)\n",
    "print(\"X_valid shape = \", X_valid.shape)\n",
    "print(\"Y_subtrain shape = \", Y_subtrain.shape)\n",
    "print(\"Y_valid shape = \", Y_valid.shape)"
   ]
  },
  {
   "cell_type": "code",
   "execution_count": 25,
   "metadata": {},
   "outputs": [],
   "source": [
    "X_subtrain_torch = torch.FloatTensor(X_subtrain)\n",
    "X_valid_torch = torch.FloatTensor(X_valid)\n",
    "Y_subtrain_torch = torch.FloatTensor(Y_subtrain)\n",
    "Y_valid_torch = torch.FloatTensor(Y_valid)\n",
    "Y_subtrain_torch = torch.FloatTensor(Y_subtrain_keep)\n",
    "Y_valid_torch = torch.FloatTensor(Y_valid_keep)\n",
    "X_test_torch = torch.FloatTensor(X_test)\n",
    "Y_test_torch = torch.FloatTensor(Y_test)"
   ]
  },
  {
   "cell_type": "code",
   "execution_count": 9,
   "metadata": {},
   "outputs": [],
   "source": [
    "from torch.utils import data\n",
    "\n",
    "class Dataset(data.Dataset):\n",
    "  'Characterizes a dataset for PyTorch'\n",
    "  def __init__(self, Xnp, Ynp):\n",
    "        'Initialization, passing Xnp and Ynp'\n",
    "        self.labels = Ynp\n",
    "        self.nobs = Xnp.shape[0]        \n",
    "        self.Xnp = Xnp\n",
    "        self.Ynp = Ynp\n",
    "  def __len__(self):\n",
    "        'Denotes the total number of samples'\n",
    "        return self.nobs\n",
    "  def __getitem__(self, index):\n",
    "        'Generates one sample of data'        \n",
    "        X = self.Xnp[index]\n",
    "        y = self.Ynp[index]\n",
    "        return X, y\n",
    "       \n",
    "subtrainset = Dataset(X_subtrain, Y_subtrain)\n",
    "validset = Dataset(X_valid, Y_valid)\n",
    "testset = Dataset(X_test, Y_test)"
   ]
  },
  {
   "cell_type": "code",
   "execution_count": 11,
   "metadata": {},
   "outputs": [
    {
     "name": "stdout",
     "output_type": "stream",
     "text": [
      "subtrainset len =  417344\n",
      "validset len =  46371\n",
      "testset len =  51630\n"
     ]
    }
   ],
   "source": [
    "print(\"subtrainset len = \", len(subtrainset))\n",
    "print(\"validset len = \", len(validset))\n",
    "print(\"testset len = \", len(testset))"
   ]
  },
  {
   "cell_type": "code",
   "execution_count": 63,
   "metadata": {},
   "outputs": [
    {
     "name": "stdout",
     "output_type": "stream",
     "text": [
      "X_batch size: torch.Size([1000, 90])\n",
      "y_batch size: torch.Size([1000])\n"
     ]
    }
   ],
   "source": [
    "torch.manual_seed(0)\n",
    "np.random.seed(0)\n",
    "subtrainloader = data.DataLoader(subtrainset, batch_size=1000, shuffle=True, num_workers=0)\n",
    "X_batch, Y_batch = next(iter(subtrainloader))\n",
    "print(\"X_batch size:\", X_batch.size())\n",
    "print(\"y_batch size:\", Y_batch.size())"
   ]
  },
  {
   "cell_type": "markdown",
   "metadata": {},
   "source": [
    "### Q2. MLP with Four Hidden Layers"
   ]
  },
  {
   "cell_type": "markdown",
   "metadata": {},
   "source": [
    "依照題目要求，設定每100個batch記錄一次RMSE，batch size為1000。挑出並記錄模型中最優的valid rmse的狀態，將該狀態套用在test上，以計算最終的結果"
   ]
  },
  {
   "cell_type": "code",
   "execution_count": 12,
   "metadata": {},
   "outputs": [
    {
     "name": "stdout",
     "output_type": "stream",
     "text": [
      "Running on device:  cpu\n"
     ]
    }
   ],
   "source": [
    "H=45\n",
    "use_cuda = torch.cuda.is_available()\n",
    "if use_cuda:\n",
    "    device = \"cuda\"   \n",
    "else:\n",
    "    device = \"cpu\"\n",
    "print(\"Running on device: \", device)\n",
    "net = torch.nn.Sequential(\n",
    "        torch.nn.Linear(90, H),  \n",
    "        torch.nn.ReLU(),\n",
    "        torch.nn.Linear(H, H),\n",
    "        torch.nn.ReLU(),\n",
    "        torch.nn.Linear(H, H),\n",
    "        torch.nn.ReLU(),\n",
    "        torch.nn.Linear(H, H),\n",
    "        torch.nn.ReLU(),\n",
    "        torch.nn.Linear(H, 1),\n",
    ")\n",
    "\n",
    "# convert everything to float precision. \n",
    "net = net.float()\n",
    "# move the model to device (i.e., cpu or gpu)\n",
    "net = net.to(device)"
   ]
  },
  {
   "cell_type": "code",
   "execution_count": 13,
   "metadata": {},
   "outputs": [],
   "source": [
    "class SSE(torch.nn.Module):\n",
    "    def __init__(self):\n",
    "        super().__init__()\n",
    "        \n",
    "    def forward(self, x, y):\n",
    "        return torch.sum(torch.pow((x - y), 2))"
   ]
  },
  {
   "cell_type": "code",
   "execution_count": 14,
   "metadata": {},
   "outputs": [],
   "source": [
    "# define the optimizer\n",
    "optimizer = torch.optim.SGD(net.parameters(), lr=0.00001)\n",
    "\n",
    "loss_fn = SSE()"
   ]
  },
  {
   "cell_type": "code",
   "execution_count": 70,
   "metadata": {},
   "outputs": [
    {
     "name": "stdout",
     "output_type": "stream",
     "text": [
      "best step cnt while early stop =  5001\n",
      "batch cnt while early stop =  10001\n",
      "batch cnt =  10001\n"
     ]
    }
   ],
   "source": [
    "import math\n",
    "import matplotlib.pyplot as plt\n",
    "from sklearn.metrics import mean_squared_error\n",
    "\n",
    "nepoch = 100\n",
    "batch_cnt = 0\n",
    "best_step_cnt = 0\n",
    "early_stop = 0\n",
    "best_rmse = math.inf\n",
    "    \n",
    "subtrain_rmse_list = []\n",
    "valid_rmse_list = []\n",
    "\n",
    "for epoch_id in range(0, nepoch): \n",
    "    for batch_idx, (inputs, targets) in enumerate(subtrainloader):\n",
    "        #reshape target to two-dimensional array\n",
    "        targets = targets.reshape((-1, 1))      \n",
    "        net.train()\n",
    "        inputs, targets = inputs.to(device), targets.to(device)\n",
    "        optimizer.zero_grad()\n",
    "        outputs = net(inputs)        \n",
    "        loss = loss_fn(outputs, targets)\n",
    "        loss.backward()\n",
    "        optimizer.step()\n",
    "        \n",
    "        batch_cnt += 1\n",
    "        best_step_cnt += 1\n",
    "        if batch_cnt % 100 == 0:\n",
    "            subtrain_pred = net(X_subtrain_torch)\n",
    "            subtrain_rmse = np.sqrt(mean_squared_error(subtrain_pred.detach().numpy(), Y_subtrain_torch))\n",
    "            subtrain_rmse_list.append(subtrain_rmse)\n",
    "            valid_pred = net(X_valid_torch)\n",
    "            valid_rmse = np.sqrt(mean_squared_error(valid_pred.detach().numpy(), Y_valid_torch))\n",
    "            valid_rmse_list.append(valid_rmse)\n",
    "            \n",
    "            if valid_rmse < best_rmse:\n",
    "                best_step_cnt = 0\n",
    "                best_rmse = valid_rmse\n",
    "                torch.save(net.state_dict(), './net/best_q2_H'+str(H)+'.pkl')\n",
    "        if best_step_cnt > 5000:\n",
    "            print(\"best step cnt while early stop = \", best_step_cnt)\n",
    "            print(\"batch cnt while early stop = \", batch_cnt)\n",
    "            early_stop = 1\n",
    "            break\n",
    "    if early_stop == 1:\n",
    "        break\n",
    "print(\"batch cnt = \", batch_cnt)"
   ]
  },
  {
   "cell_type": "code",
   "execution_count": 72,
   "metadata": {},
   "outputs": [
    {
     "data": {
      "image/png": "[encoded data removed]",
      "text/plain": [
       "<Figure size 432x288 with 1 Axes>"
      ]
     },
     "metadata": {
      "needs_background": "light"
     },
     "output_type": "display_data"
    }
   ],
   "source": [
    "l = list(range(len(subtrain_rmse_list)))\n",
    "plt.plot(l, subtrain_rmse_list, label='subtrain')\n",
    "plt.plot(l, valid_rmse_list, label='valid')\n",
    "plt.xlabel(\"per 100 batch\")\n",
    "plt.ylabel(\"RMSE\")\n",
    "plt.legend()\n",
    "plt.show()"
   ]
  },
  {
   "cell_type": "code",
   "execution_count": 73,
   "metadata": {},
   "outputs": [
    {
     "name": "stdout",
     "output_type": "stream",
     "text": [
      "H = 45, test RMSE =  8.967344\n"
     ]
    }
   ],
   "source": [
    "net.load_state_dict(torch.load('./net/best_q2_H45.pkl'))\n",
    "net.eval()\n",
    "test_pred = net(X_test_torch)\n",
    "test_rmse = np.sqrt(mean_squared_error(test_pred.detach().numpy(), Y_test_torch))\n",
    "\n",
    "print(\"H = 45, test RMSE = \", test_rmse)"
   ]
  },
  {
   "cell_type": "markdown",
   "metadata": {},
   "source": [
    "從圖形來觀察，subtrain RMSE有隨著per 100 batch增加而略微減少的趨勢，但valid RMSE沒有明顯下降，而是呈現上下波動的狀態。雖然training RMSE仍在下降，但valid RMSE卻沒有更好，繼續train會導致overfitting使得預測效果更差，因此透過early stopping的機制，提前終止迴圈並且保留最好的模型參數。"
   ]
  },
  {
   "cell_type": "markdown",
   "metadata": {},
   "source": [
    "### Q3. MLP with different H"
   ]
  },
  {
   "cell_type": "markdown",
   "metadata": {},
   "source": [
    "調整H，重新做與Q2相同的事"
   ]
  },
  {
   "cell_type": "code",
   "execution_count": 69,
   "metadata": {},
   "outputs": [
    {
     "name": "stdout",
     "output_type": "stream",
     "text": [
      "best step cnt while early stop =  5001\n",
      "batch cnt while early stop =  6201\n"
     ]
    }
   ],
   "source": [
    "H = 90\n",
    "batch_cnt = 0\n",
    "best_step_cnt = 0\n",
    "early_stop = 0\n",
    "best_rmse = math.inf\n",
    "\n",
    "for epoch_id in range(0, nepoch): \n",
    "    for batch_idx, (inputs, targets) in enumerate(subtrainloader):\n",
    "        #reshape target to two-dimensional array\n",
    "        targets = targets.reshape((-1, 1))      \n",
    "        net.train()\n",
    "        inputs, targets = inputs.to(device), targets.to(device)\n",
    "        optimizer.zero_grad()\n",
    "        outputs = net(inputs)        \n",
    "        loss = loss_fn(outputs, targets)\n",
    "        loss.backward()\n",
    "        optimizer.step()\n",
    "        \n",
    "        batch_cnt += 1\n",
    "        best_step_cnt += 1\n",
    "        if batch_cnt % 100 == 0:\n",
    "            subtrain_pred = net(X_subtrain_torch)\n",
    "            subtrain_rmse = np.sqrt(mean_squared_error(subtrain_pred.detach().numpy(), Y_subtrain_torch))\n",
    "            subtrain_rmse_list.append(subtrain_rmse)\n",
    "            valid_pred = net(X_valid_torch)\n",
    "            valid_rmse = np.sqrt(mean_squared_error(valid_pred.detach().numpy(), Y_valid_torch))\n",
    "            valid_rmse_list.append(valid_rmse)\n",
    "            \n",
    "            if valid_rmse < best_rmse:\n",
    "                best_step_cnt = 0\n",
    "                best_rmse = valid_rmse\n",
    "                torch.save(net.state_dict(), './net/best_q2_H'+str(H)+'.pkl')\n",
    "        if best_step_cnt > 5000:\n",
    "            print(\"best step cnt while early stop = \", best_step_cnt)\n",
    "            print(\"batch cnt while early stop = \", batch_cnt)\n",
    "            early_stop = 1\n",
    "            break\n",
    "    if early_stop == 1:\n",
    "        break"
   ]
  },
  {
   "cell_type": "code",
   "execution_count": 55,
   "metadata": {},
   "outputs": [
    {
     "name": "stdout",
     "output_type": "stream",
     "text": [
      "H = 90, test RMSE =  8.987108\n"
     ]
    }
   ],
   "source": [
    "net.load_state_dict(torch.load('./net/best_q2_H90.pkl'))\n",
    "net.eval()\n",
    "test_pred = net(X_test_torch)\n",
    "test_rmse = np.sqrt(mean_squared_error(test_pred.detach().numpy(), Y_test_torch))\n",
    "\n",
    "print(\"H = 90, test RMSE = \", test_rmse)"
   ]
  },
  {
   "cell_type": "code",
   "execution_count": 56,
   "metadata": {},
   "outputs": [
    {
     "name": "stdout",
     "output_type": "stream",
     "text": [
      "best step cnt while early stop =  5001\n",
      "batch cnt while early stop =  6101\n"
     ]
    }
   ],
   "source": [
    "H = 180\n",
    "batch_cnt = 0\n",
    "best_step_cnt = 0\n",
    "early_stop = 0\n",
    "best_rmse = math.inf\n",
    "\n",
    "for epoch_id in range(0, nepoch): \n",
    "    for batch_idx, (inputs, targets) in enumerate(subtrainloader):\n",
    "        #reshape target to two-dimensional array\n",
    "        targets = targets.reshape((-1, 1))      \n",
    "        net.train()\n",
    "        inputs, targets = inputs.to(device), targets.to(device)\n",
    "        optimizer.zero_grad()\n",
    "        outputs = net(inputs)        \n",
    "        loss = loss_fn(outputs, targets)\n",
    "        loss.backward()\n",
    "        optimizer.step()\n",
    "        \n",
    "        batch_cnt += 1\n",
    "        best_step_cnt += 1\n",
    "        if batch_cnt % 100 == 0:\n",
    "            subtrain_pred = net(X_subtrain_torch)\n",
    "            subtrain_rmse = np.sqrt(mean_squared_error(subtrain_pred.detach().numpy(), Y_subtrain_torch))\n",
    "            subtrain_rmse_list.append(subtrain_rmse)\n",
    "            valid_pred = net(X_valid_torch)\n",
    "            valid_rmse = np.sqrt(mean_squared_error(valid_pred.detach().numpy(), Y_valid_torch))\n",
    "            valid_rmse_list.append(valid_rmse)\n",
    "            \n",
    "            if valid_rmse < best_rmse:\n",
    "                best_step_cnt = 0\n",
    "                best_rmse = valid_rmse\n",
    "                torch.save(net.state_dict(), './net/best_q2_H'+str(H)+'.pkl')\n",
    "        if best_step_cnt > 5000:\n",
    "            print(\"best step cnt while early stop = \", best_step_cnt)\n",
    "            print(\"batch cnt while early stop = \", batch_cnt)\n",
    "            early_stop = 1\n",
    "            break\n",
    "    if early_stop == 1:\n",
    "        break"
   ]
  },
  {
   "cell_type": "code",
   "execution_count": 71,
   "metadata": {},
   "outputs": [
    {
     "name": "stdout",
     "output_type": "stream",
     "text": [
      "H = 180, test RMSE =  9.024058\n"
     ]
    }
   ],
   "source": [
    "net.load_state_dict(torch.load('./net/best_q2_H180.pkl'))\n",
    "net.eval()\n",
    "test_pred = net(X_test_torch)\n",
    "test_rmse = np.sqrt(mean_squared_error(test_pred.detach().numpy(), Y_test_torch))\n",
    "\n",
    "print(\"H = 180, test RMSE = \", test_rmse)"
   ]
  },
  {
   "cell_type": "markdown",
   "metadata": {},
   "source": [
    "H = 45, test RMSE =  8.967344\n",
    "H = 90, test RMSE =  8.987108\n",
    "H = 180, test RMSE =  9.024058\n",
    "根據上述結果看來，net在H=45時表現最佳、在H=180時表現最差，這說明著對於這個資料集而言，最適當的hidden node數量很可能較接近45。"
   ]
  },
  {
   "cell_type": "markdown",
   "metadata": {},
   "source": [
    "### Q4. MSL with decay"
   ]
  },
  {
   "cell_type": "markdown",
   "metadata": {},
   "source": [
    "依照題目要求，使用Q2的模型設定，並增加decay的參數來預測結果"
   ]
  },
  {
   "cell_type": "code",
   "execution_count": 76,
   "metadata": {},
   "outputs": [],
   "source": [
    "# define the optimizer\n",
    "optimizer_q4 = torch.optim.SGD(net.parameters(), lr=0.00001, weight_decay = 0.1)"
   ]
  },
  {
   "cell_type": "code",
   "execution_count": 79,
   "metadata": {},
   "outputs": [],
   "source": [
    "def training_q4(H, wd):\n",
    "    batch_cnt = 0\n",
    "    best_step_cnt = 0\n",
    "    early_stop = 0\n",
    "    best_rmse = math.inf\n",
    "    \n",
    "    for epoch_id in range(0, nepoch): \n",
    "        for batch_idx, (inputs, targets) in enumerate(subtrainloader):\n",
    "            #reshape target to two-dimensional array\n",
    "            targets = targets.reshape((-1, 1))      \n",
    "            net.train()\n",
    "            inputs, targets = inputs.to(device), targets.to(device)\n",
    "            optimizer_q4.zero_grad()\n",
    "            outputs = net(inputs)        \n",
    "            loss = loss_fn(outputs, targets)\n",
    "            loss.backward()\n",
    "            optimizer_q4.step()\n",
    "\n",
    "            batch_cnt += 1\n",
    "            best_step_cnt += 1\n",
    "            if batch_cnt % 100 == 0:\n",
    "                subtrain_pred = net(X_subtrain_torch)\n",
    "                subtrain_rmse = np.sqrt(mean_squared_error(subtrain_pred.detach().numpy(), Y_subtrain_torch))\n",
    "                subtrain_rmse_list.append(subtrain_rmse)\n",
    "                valid_pred = net(X_valid_torch)\n",
    "                valid_rmse = np.sqrt(mean_squared_error(valid_pred.detach().numpy(), Y_valid_torch))\n",
    "                valid_rmse_list.append(valid_rmse)\n",
    "\n",
    "                if valid_rmse < best_rmse:\n",
    "                    best_step_cnt = 0\n",
    "                    best_rmse = valid_rmse\n",
    "                    torch.save(net.state_dict(), './net/best_q4_H'+str(H)+'_wd'+str(wd)+'.pkl')\n",
    "            if best_step_cnt > 5000:\n",
    "                print(\"best step cnt while early stop = \", best_step_cnt)\n",
    "                print(\"batch cnt while early stop = \", batch_cnt)\n",
    "                early_stop = 1\n",
    "                break\n",
    "        if early_stop == 1:\n",
    "            break"
   ]
  },
  {
   "cell_type": "code",
   "execution_count": 80,
   "metadata": {},
   "outputs": [
    {
     "name": "stdout",
     "output_type": "stream",
     "text": [
      "best step cnt while early stop =  5001\n",
      "batch cnt while early stop =  5801\n",
      "best step cnt while early stop =  5001\n",
      "batch cnt while early stop =  6601\n",
      "best step cnt while early stop =  5001\n",
      "batch cnt while early stop =  7901\n",
      "best step cnt while early stop =  5001\n",
      "batch cnt while early stop =  5801\n",
      "best step cnt while early stop =  5001\n",
      "batch cnt while early stop =  6301\n",
      "best step cnt while early stop =  5001\n",
      "batch cnt while early stop =  10001\n",
      "best step cnt while early stop =  5001\n",
      "batch cnt while early stop =  7401\n",
      "best step cnt while early stop =  5001\n",
      "batch cnt while early stop =  10701\n",
      "best step cnt while early stop =  5001\n",
      "batch cnt while early stop =  9001\n"
     ]
    }
   ],
   "source": [
    "H_q4_list = [45, 90, 180]\n",
    "wd_q4_list = [0.1, 0.2, 0.4]\n",
    "\n",
    "for h in H_q4_list:\n",
    "    for wd in wd_q4_list:\n",
    "        training_q4(h,wd)"
   ]
  },
  {
   "cell_type": "code",
   "execution_count": 82,
   "metadata": {},
   "outputs": [
    {
     "name": "stdout",
     "output_type": "stream",
     "text": [
      "H = 45, weight_decay = 0.1, Test RMSE = 9.044127\n",
      "H = 45, weight_decay = 0.2, Test RMSE = 9.0255\n",
      "H = 45, weight_decay = 0.4, Test RMSE = 9.05788\n",
      "H = 90, weight_decay = 0.1, Test RMSE = 9.090263\n",
      "H = 90, weight_decay = 0.2, Test RMSE = 9.104871\n",
      "H = 90, weight_decay = 0.4, Test RMSE = 9.147576\n",
      "H = 180, weight_decay = 0.1, Test RMSE = 9.13486\n",
      "H = 180, weight_decay = 0.2, Test RMSE = 9.106463\n",
      "H = 180, weight_decay = 0.4, Test RMSE = 9.155612\n"
     ]
    }
   ],
   "source": [
    "for h in H_q4_list:\n",
    "    for wd in wd_q4_list:\n",
    "        net.load_state_dict(torch.load('./net/best_q4_H'+str(h)+'_wd'+str(wd)+'.pkl'))\n",
    "        net.eval()\n",
    "        test_pred = net(X_test_torch)\n",
    "        test_rmse = np.sqrt(mean_squared_error(test_pred.detach().numpy(), Y_test_torch))\n",
    "        print('H = '+str(h)+', weight_decay = '+str(wd)+', Test RMSE = '+str(test_rmse))"
   ]
  },
  {
   "cell_type": "markdown",
   "metadata": {},
   "source": [
    "藉由此題的結果來觀察，所有的情形表現差異不大，都有不錯的test RMSE，而在這之中，如果要挑出一個最適合的hidden nodes數量，H=45整體的表現明顯是最好的，所以應該要選H=45"
   ]
  },
  {
   "cell_type": "markdown",
   "metadata": {},
   "source": [
    "#### Q5 MLP with Dropout"
   ]
  },
  {
   "cell_type": "code",
   "execution_count": 83,
   "metadata": {},
   "outputs": [],
   "source": [
    "net_d = torch.nn.Sequential(\n",
    "        torch.nn.Linear(90, H),  \n",
    "        torch.nn.ReLU(),\n",
    "        torch.nn.Dropout(0.5),\n",
    "        torch.nn.Linear(H, H),\n",
    "        torch.nn.ReLU(),\n",
    "        torch.nn.Dropout(0.5),\n",
    "        torch.nn.Linear(H, H),\n",
    "        torch.nn.ReLU(),\n",
    "        torch.nn.Dropout(0.5),    \n",
    "        torch.nn.Linear(H, H),\n",
    "        torch.nn.ReLU(),\n",
    "        torch.nn.Dropout(0.5),\n",
    "        torch.nn.Linear(H, 1),\n",
    ")\n",
    "\n",
    "# convert everything to float precision. \n",
    "net_d = net_d.float()"
   ]
  },
  {
   "cell_type": "code",
   "execution_count": 87,
   "metadata": {},
   "outputs": [],
   "source": [
    "# define the optimizer\n",
    "optimizer_q5 = torch.optim.Adam(net_d.parameters(), lr=0.001)"
   ]
  },
  {
   "cell_type": "code",
   "execution_count": 110,
   "metadata": {},
   "outputs": [
    {
     "ename": "KeyboardInterrupt",
     "evalue": "",
     "output_type": "error",
     "traceback": [
      "\u001b[1;31m---------------------------------------------------------------------------\u001b[0m",
      "\u001b[1;31mKeyboardInterrupt\u001b[0m                         Traceback (most recent call last)",
      "\u001b[1;32m<ipython-input-110-dc0e2a047024>\u001b[0m in \u001b[0;36m<module>\u001b[1;34m\u001b[0m\n\u001b[0;32m      9\u001b[0m \u001b[1;33m\u001b[0m\u001b[0m\n\u001b[0;32m     10\u001b[0m \u001b[1;32mfor\u001b[0m \u001b[0mepoch_id\u001b[0m \u001b[1;32min\u001b[0m \u001b[0mrange\u001b[0m\u001b[1;33m(\u001b[0m\u001b[1;36m0\u001b[0m\u001b[1;33m,\u001b[0m \u001b[0mnepoch\u001b[0m\u001b[1;33m)\u001b[0m\u001b[1;33m:\u001b[0m\u001b[1;33m\u001b[0m\u001b[1;33m\u001b[0m\u001b[0m\n\u001b[1;32m---> 11\u001b[1;33m     \u001b[1;32mfor\u001b[0m \u001b[0mbatch_idx\u001b[0m\u001b[1;33m,\u001b[0m \u001b[1;33m(\u001b[0m\u001b[0minputs\u001b[0m\u001b[1;33m,\u001b[0m \u001b[0mtargets\u001b[0m\u001b[1;33m)\u001b[0m \u001b[1;32min\u001b[0m \u001b[0menumerate\u001b[0m\u001b[1;33m(\u001b[0m\u001b[0msubtrainloader\u001b[0m\u001b[1;33m)\u001b[0m\u001b[1;33m:\u001b[0m\u001b[1;33m\u001b[0m\u001b[1;33m\u001b[0m\u001b[0m\n\u001b[0m\u001b[0;32m     12\u001b[0m         \u001b[0mtargets\u001b[0m \u001b[1;33m=\u001b[0m \u001b[0mtargets\u001b[0m\u001b[1;33m.\u001b[0m\u001b[0mreshape\u001b[0m\u001b[1;33m(\u001b[0m\u001b[1;33m(\u001b[0m\u001b[1;33m-\u001b[0m\u001b[1;36m1\u001b[0m\u001b[1;33m,\u001b[0m \u001b[1;36m1\u001b[0m\u001b[1;33m)\u001b[0m\u001b[1;33m)\u001b[0m\u001b[1;33m\u001b[0m\u001b[1;33m\u001b[0m\u001b[0m\n\u001b[0;32m     13\u001b[0m         \u001b[0mnet_d\u001b[0m\u001b[1;33m.\u001b[0m\u001b[0mtrain\u001b[0m\u001b[1;33m(\u001b[0m\u001b[1;33m)\u001b[0m\u001b[1;33m\u001b[0m\u001b[1;33m\u001b[0m\u001b[0m\n",
      "\u001b[1;32md:\\python\\lib\\site-packages\\torch\\utils\\data\\dataloader.py\u001b[0m in \u001b[0;36m__next__\u001b[1;34m(self)\u001b[0m\n\u001b[0;32m    433\u001b[0m         \u001b[1;32mif\u001b[0m \u001b[0mself\u001b[0m\u001b[1;33m.\u001b[0m\u001b[0m_sampler_iter\u001b[0m \u001b[1;32mis\u001b[0m \u001b[1;32mNone\u001b[0m\u001b[1;33m:\u001b[0m\u001b[1;33m\u001b[0m\u001b[1;33m\u001b[0m\u001b[0m\n\u001b[0;32m    434\u001b[0m             \u001b[0mself\u001b[0m\u001b[1;33m.\u001b[0m\u001b[0m_reset\u001b[0m\u001b[1;33m(\u001b[0m\u001b[1;33m)\u001b[0m\u001b[1;33m\u001b[0m\u001b[1;33m\u001b[0m\u001b[0m\n\u001b[1;32m--> 435\u001b[1;33m         \u001b[0mdata\u001b[0m \u001b[1;33m=\u001b[0m \u001b[0mself\u001b[0m\u001b[1;33m.\u001b[0m\u001b[0m_next_data\u001b[0m\u001b[1;33m(\u001b[0m\u001b[1;33m)\u001b[0m\u001b[1;33m\u001b[0m\u001b[1;33m\u001b[0m\u001b[0m\n\u001b[0m\u001b[0;32m    436\u001b[0m         \u001b[0mself\u001b[0m\u001b[1;33m.\u001b[0m\u001b[0m_num_yielded\u001b[0m \u001b[1;33m+=\u001b[0m \u001b[1;36m1\u001b[0m\u001b[1;33m\u001b[0m\u001b[1;33m\u001b[0m\u001b[0m\n\u001b[0;32m    437\u001b[0m         \u001b[1;32mif\u001b[0m \u001b[0mself\u001b[0m\u001b[1;33m.\u001b[0m\u001b[0m_dataset_kind\u001b[0m \u001b[1;33m==\u001b[0m \u001b[0m_DatasetKind\u001b[0m\u001b[1;33m.\u001b[0m\u001b[0mIterable\u001b[0m \u001b[1;32mand\u001b[0m\u001b[0;31m \u001b[0m\u001b[0;31m\\\u001b[0m\u001b[1;33m\u001b[0m\u001b[1;33m\u001b[0m\u001b[0m\n",
      "\u001b[1;32md:\\python\\lib\\site-packages\\torch\\utils\\data\\dataloader.py\u001b[0m in \u001b[0;36m_next_data\u001b[1;34m(self)\u001b[0m\n\u001b[0;32m    473\u001b[0m     \u001b[1;32mdef\u001b[0m \u001b[0m_next_data\u001b[0m\u001b[1;33m(\u001b[0m\u001b[0mself\u001b[0m\u001b[1;33m)\u001b[0m\u001b[1;33m:\u001b[0m\u001b[1;33m\u001b[0m\u001b[1;33m\u001b[0m\u001b[0m\n\u001b[0;32m    474\u001b[0m         \u001b[0mindex\u001b[0m \u001b[1;33m=\u001b[0m \u001b[0mself\u001b[0m\u001b[1;33m.\u001b[0m\u001b[0m_next_index\u001b[0m\u001b[1;33m(\u001b[0m\u001b[1;33m)\u001b[0m  \u001b[1;31m# may raise StopIteration\u001b[0m\u001b[1;33m\u001b[0m\u001b[1;33m\u001b[0m\u001b[0m\n\u001b[1;32m--> 475\u001b[1;33m         \u001b[0mdata\u001b[0m \u001b[1;33m=\u001b[0m \u001b[0mself\u001b[0m\u001b[1;33m.\u001b[0m\u001b[0m_dataset_fetcher\u001b[0m\u001b[1;33m.\u001b[0m\u001b[0mfetch\u001b[0m\u001b[1;33m(\u001b[0m\u001b[0mindex\u001b[0m\u001b[1;33m)\u001b[0m  \u001b[1;31m# may raise StopIteration\u001b[0m\u001b[1;33m\u001b[0m\u001b[1;33m\u001b[0m\u001b[0m\n\u001b[0m\u001b[0;32m    476\u001b[0m         \u001b[1;32mif\u001b[0m \u001b[0mself\u001b[0m\u001b[1;33m.\u001b[0m\u001b[0m_pin_memory\u001b[0m\u001b[1;33m:\u001b[0m\u001b[1;33m\u001b[0m\u001b[1;33m\u001b[0m\u001b[0m\n\u001b[0;32m    477\u001b[0m             \u001b[0mdata\u001b[0m \u001b[1;33m=\u001b[0m \u001b[0m_utils\u001b[0m\u001b[1;33m.\u001b[0m\u001b[0mpin_memory\u001b[0m\u001b[1;33m.\u001b[0m\u001b[0mpin_memory\u001b[0m\u001b[1;33m(\u001b[0m\u001b[0mdata\u001b[0m\u001b[1;33m)\u001b[0m\u001b[1;33m\u001b[0m\u001b[1;33m\u001b[0m\u001b[0m\n",
      "\u001b[1;32md:\\python\\lib\\site-packages\\torch\\utils\\data\\_utils\\fetch.py\u001b[0m in \u001b[0;36mfetch\u001b[1;34m(self, possibly_batched_index)\u001b[0m\n\u001b[0;32m     45\u001b[0m         \u001b[1;32melse\u001b[0m\u001b[1;33m:\u001b[0m\u001b[1;33m\u001b[0m\u001b[1;33m\u001b[0m\u001b[0m\n\u001b[0;32m     46\u001b[0m             \u001b[0mdata\u001b[0m \u001b[1;33m=\u001b[0m \u001b[0mself\u001b[0m\u001b[1;33m.\u001b[0m\u001b[0mdataset\u001b[0m\u001b[1;33m[\u001b[0m\u001b[0mpossibly_batched_index\u001b[0m\u001b[1;33m]\u001b[0m\u001b[1;33m\u001b[0m\u001b[1;33m\u001b[0m\u001b[0m\n\u001b[1;32m---> 47\u001b[1;33m         \u001b[1;32mreturn\u001b[0m \u001b[0mself\u001b[0m\u001b[1;33m.\u001b[0m\u001b[0mcollate_fn\u001b[0m\u001b[1;33m(\u001b[0m\u001b[0mdata\u001b[0m\u001b[1;33m)\u001b[0m\u001b[1;33m\u001b[0m\u001b[1;33m\u001b[0m\u001b[0m\n\u001b[0m",
      "\u001b[1;32md:\\python\\lib\\site-packages\\torch\\utils\\data\\_utils\\collate.py\u001b[0m in \u001b[0;36mdefault_collate\u001b[1;34m(batch)\u001b[0m\n\u001b[0;32m     81\u001b[0m             \u001b[1;32mraise\u001b[0m \u001b[0mRuntimeError\u001b[0m\u001b[1;33m(\u001b[0m\u001b[1;34m'each element in list of batch should be of equal size'\u001b[0m\u001b[1;33m)\u001b[0m\u001b[1;33m\u001b[0m\u001b[1;33m\u001b[0m\u001b[0m\n\u001b[0;32m     82\u001b[0m         \u001b[0mtransposed\u001b[0m \u001b[1;33m=\u001b[0m \u001b[0mzip\u001b[0m\u001b[1;33m(\u001b[0m\u001b[1;33m*\u001b[0m\u001b[0mbatch\u001b[0m\u001b[1;33m)\u001b[0m\u001b[1;33m\u001b[0m\u001b[1;33m\u001b[0m\u001b[0m\n\u001b[1;32m---> 83\u001b[1;33m         \u001b[1;32mreturn\u001b[0m \u001b[1;33m[\u001b[0m\u001b[0mdefault_collate\u001b[0m\u001b[1;33m(\u001b[0m\u001b[0msamples\u001b[0m\u001b[1;33m)\u001b[0m \u001b[1;32mfor\u001b[0m \u001b[0msamples\u001b[0m \u001b[1;32min\u001b[0m \u001b[0mtransposed\u001b[0m\u001b[1;33m]\u001b[0m\u001b[1;33m\u001b[0m\u001b[1;33m\u001b[0m\u001b[0m\n\u001b[0m\u001b[0;32m     84\u001b[0m \u001b[1;33m\u001b[0m\u001b[0m\n\u001b[0;32m     85\u001b[0m     \u001b[1;32mraise\u001b[0m \u001b[0mTypeError\u001b[0m\u001b[1;33m(\u001b[0m\u001b[0mdefault_collate_err_msg_format\u001b[0m\u001b[1;33m.\u001b[0m\u001b[0mformat\u001b[0m\u001b[1;33m(\u001b[0m\u001b[0melem_type\u001b[0m\u001b[1;33m)\u001b[0m\u001b[1;33m)\u001b[0m\u001b[1;33m\u001b[0m\u001b[1;33m\u001b[0m\u001b[0m\n",
      "\u001b[1;32md:\\python\\lib\\site-packages\\torch\\utils\\data\\_utils\\collate.py\u001b[0m in \u001b[0;36m<listcomp>\u001b[1;34m(.0)\u001b[0m\n\u001b[0;32m     81\u001b[0m             \u001b[1;32mraise\u001b[0m \u001b[0mRuntimeError\u001b[0m\u001b[1;33m(\u001b[0m\u001b[1;34m'each element in list of batch should be of equal size'\u001b[0m\u001b[1;33m)\u001b[0m\u001b[1;33m\u001b[0m\u001b[1;33m\u001b[0m\u001b[0m\n\u001b[0;32m     82\u001b[0m         \u001b[0mtransposed\u001b[0m \u001b[1;33m=\u001b[0m \u001b[0mzip\u001b[0m\u001b[1;33m(\u001b[0m\u001b[1;33m*\u001b[0m\u001b[0mbatch\u001b[0m\u001b[1;33m)\u001b[0m\u001b[1;33m\u001b[0m\u001b[1;33m\u001b[0m\u001b[0m\n\u001b[1;32m---> 83\u001b[1;33m         \u001b[1;32mreturn\u001b[0m \u001b[1;33m[\u001b[0m\u001b[0mdefault_collate\u001b[0m\u001b[1;33m(\u001b[0m\u001b[0msamples\u001b[0m\u001b[1;33m)\u001b[0m \u001b[1;32mfor\u001b[0m \u001b[0msamples\u001b[0m \u001b[1;32min\u001b[0m \u001b[0mtransposed\u001b[0m\u001b[1;33m]\u001b[0m\u001b[1;33m\u001b[0m\u001b[1;33m\u001b[0m\u001b[0m\n\u001b[0m\u001b[0;32m     84\u001b[0m \u001b[1;33m\u001b[0m\u001b[0m\n\u001b[0;32m     85\u001b[0m     \u001b[1;32mraise\u001b[0m \u001b[0mTypeError\u001b[0m\u001b[1;33m(\u001b[0m\u001b[0mdefault_collate_err_msg_format\u001b[0m\u001b[1;33m.\u001b[0m\u001b[0mformat\u001b[0m\u001b[1;33m(\u001b[0m\u001b[0melem_type\u001b[0m\u001b[1;33m)\u001b[0m\u001b[1;33m)\u001b[0m\u001b[1;33m\u001b[0m\u001b[1;33m\u001b[0m\u001b[0m\n",
      "\u001b[1;32md:\\python\\lib\\site-packages\\torch\\utils\\data\\_utils\\collate.py\u001b[0m in \u001b[0;36mdefault_collate\u001b[1;34m(batch)\u001b[0m\n\u001b[0;32m     61\u001b[0m                 \u001b[1;32mraise\u001b[0m \u001b[0mTypeError\u001b[0m\u001b[1;33m(\u001b[0m\u001b[0mdefault_collate_err_msg_format\u001b[0m\u001b[1;33m.\u001b[0m\u001b[0mformat\u001b[0m\u001b[1;33m(\u001b[0m\u001b[0melem\u001b[0m\u001b[1;33m.\u001b[0m\u001b[0mdtype\u001b[0m\u001b[1;33m)\u001b[0m\u001b[1;33m)\u001b[0m\u001b[1;33m\u001b[0m\u001b[1;33m\u001b[0m\u001b[0m\n\u001b[0;32m     62\u001b[0m \u001b[1;33m\u001b[0m\u001b[0m\n\u001b[1;32m---> 63\u001b[1;33m             \u001b[1;32mreturn\u001b[0m \u001b[0mdefault_collate\u001b[0m\u001b[1;33m(\u001b[0m\u001b[1;33m[\u001b[0m\u001b[0mtorch\u001b[0m\u001b[1;33m.\u001b[0m\u001b[0mas_tensor\u001b[0m\u001b[1;33m(\u001b[0m\u001b[0mb\u001b[0m\u001b[1;33m)\u001b[0m \u001b[1;32mfor\u001b[0m \u001b[0mb\u001b[0m \u001b[1;32min\u001b[0m \u001b[0mbatch\u001b[0m\u001b[1;33m]\u001b[0m\u001b[1;33m)\u001b[0m\u001b[1;33m\u001b[0m\u001b[1;33m\u001b[0m\u001b[0m\n\u001b[0m\u001b[0;32m     64\u001b[0m         \u001b[1;32melif\u001b[0m \u001b[0melem\u001b[0m\u001b[1;33m.\u001b[0m\u001b[0mshape\u001b[0m \u001b[1;33m==\u001b[0m \u001b[1;33m(\u001b[0m\u001b[1;33m)\u001b[0m\u001b[1;33m:\u001b[0m  \u001b[1;31m# scalars\u001b[0m\u001b[1;33m\u001b[0m\u001b[1;33m\u001b[0m\u001b[0m\n\u001b[0;32m     65\u001b[0m             \u001b[1;32mreturn\u001b[0m \u001b[0mtorch\u001b[0m\u001b[1;33m.\u001b[0m\u001b[0mas_tensor\u001b[0m\u001b[1;33m(\u001b[0m\u001b[0mbatch\u001b[0m\u001b[1;33m)\u001b[0m\u001b[1;33m\u001b[0m\u001b[1;33m\u001b[0m\u001b[0m\n",
      "\u001b[1;32md:\\python\\lib\\site-packages\\torch\\utils\\data\\_utils\\collate.py\u001b[0m in \u001b[0;36m<listcomp>\u001b[1;34m(.0)\u001b[0m\n\u001b[0;32m     61\u001b[0m                 \u001b[1;32mraise\u001b[0m \u001b[0mTypeError\u001b[0m\u001b[1;33m(\u001b[0m\u001b[0mdefault_collate_err_msg_format\u001b[0m\u001b[1;33m.\u001b[0m\u001b[0mformat\u001b[0m\u001b[1;33m(\u001b[0m\u001b[0melem\u001b[0m\u001b[1;33m.\u001b[0m\u001b[0mdtype\u001b[0m\u001b[1;33m)\u001b[0m\u001b[1;33m)\u001b[0m\u001b[1;33m\u001b[0m\u001b[1;33m\u001b[0m\u001b[0m\n\u001b[0;32m     62\u001b[0m \u001b[1;33m\u001b[0m\u001b[0m\n\u001b[1;32m---> 63\u001b[1;33m             \u001b[1;32mreturn\u001b[0m \u001b[0mdefault_collate\u001b[0m\u001b[1;33m(\u001b[0m\u001b[1;33m[\u001b[0m\u001b[0mtorch\u001b[0m\u001b[1;33m.\u001b[0m\u001b[0mas_tensor\u001b[0m\u001b[1;33m(\u001b[0m\u001b[0mb\u001b[0m\u001b[1;33m)\u001b[0m \u001b[1;32mfor\u001b[0m \u001b[0mb\u001b[0m \u001b[1;32min\u001b[0m \u001b[0mbatch\u001b[0m\u001b[1;33m]\u001b[0m\u001b[1;33m)\u001b[0m\u001b[1;33m\u001b[0m\u001b[1;33m\u001b[0m\u001b[0m\n\u001b[0m\u001b[0;32m     64\u001b[0m         \u001b[1;32melif\u001b[0m \u001b[0melem\u001b[0m\u001b[1;33m.\u001b[0m\u001b[0mshape\u001b[0m \u001b[1;33m==\u001b[0m \u001b[1;33m(\u001b[0m\u001b[1;33m)\u001b[0m\u001b[1;33m:\u001b[0m  \u001b[1;31m# scalars\u001b[0m\u001b[1;33m\u001b[0m\u001b[1;33m\u001b[0m\u001b[0m\n\u001b[0;32m     65\u001b[0m             \u001b[1;32mreturn\u001b[0m \u001b[0mtorch\u001b[0m\u001b[1;33m.\u001b[0m\u001b[0mas_tensor\u001b[0m\u001b[1;33m(\u001b[0m\u001b[0mbatch\u001b[0m\u001b[1;33m)\u001b[0m\u001b[1;33m\u001b[0m\u001b[1;33m\u001b[0m\u001b[0m\n",
      "\u001b[1;31mKeyboardInterrupt\u001b[0m: "
     ]
    }
   ],
   "source": [
    "h = 90\n",
    "batch_cnt = 0\n",
    "best_step_cnt = 0\n",
    "early_stop = 0\n",
    "best_rmse = math.inf\n",
    "    \n",
    "subtrain_rmse_list = []\n",
    "valid_rmse_list = []\n",
    "    \n",
    "for epoch_id in range(0, nepoch):\n",
    "    for batch_idx, (inputs, targets) in enumerate(subtrainloader):\n",
    "        targets = targets.reshape((-1, 1))      \n",
    "        net_d.train()\n",
    "        inputs, targets = inputs.to(device), targets.to(device)\n",
    "        optimizer_q5.zero_grad()\n",
    "        outputs = net_d(inputs)        \n",
    "        loss = loss_fn(outputs, targets)\n",
    "        loss.backward()\n",
    "        optimizer_q5.step()\n",
    "\n",
    "        batch_cnt += 1\n",
    "        best_step_cnt += 1\n",
    "        if batch_cnt % 100 == 0:\n",
    "            subtrain_pred = net_d(X_subtrain_torch)\n",
    "            subtrain_rmse = np.sqrt(mean_squared_error(subtrain_pred.detach().numpy(), Y_subtrain_torch))\n",
    "            subtrain_rmse_list.append(subtrain_rmse)\n",
    "            valid_pred = net_d(X_valid_torch)\n",
    "            valid_rmse = np.sqrt(mean_squared_error(valid_pred.detach().numpy(), Y_valid_torch))\n",
    "            valid_rmse_list.append(valid_rmse)\n",
    "\n",
    "            if valid_rmse < best_rmse:\n",
    "                best_step_cnt = 0\n",
    "                best_rmse = valid_rmse\n",
    "                torch.save(net_d.state_dict(), './net/best_q5_H'+str(H)+'.pkl')\n",
    "        if best_step_cnt > 5000:\n",
    "            print(\"best step cnt while early stop = \", best_step_cnt)\n",
    "            print(\"batch cnt while early stop = \", batch_cnt)\n",
    "            early_stop = 1\n",
    "            break\n",
    "    if early_stop == 1:\n",
    "        break\n",
    "print(\"batch cnt = \", batch_cnt)"
   ]
  },
  {
   "cell_type": "code",
   "execution_count": 111,
   "metadata": {},
   "outputs": [
    {
     "data": {
      "image/png": "[encoded data removed]",
      "text/plain": [
       "<Figure size 432x288 with 1 Axes>"
      ]
     },
     "metadata": {
      "needs_background": "light"
     },
     "output_type": "display_data"
    }
   ],
   "source": [
    "l = list(range(len(subtrain_rmse_list)))\n",
    "plt.plot(l, subtrain_rmse_list, label='subtrain')\n",
    "plt.plot(l, valid_rmse_list, label='valid')\n",
    "plt.xlabel(\"per 100 batch\")\n",
    "plt.ylabel(\"RMSE\")\n",
    "plt.legend()\n",
    "plt.show()"
   ]
  },
  {
   "cell_type": "markdown",
   "metadata": {},
   "source": [
    "這張是後來只跑出一點點的圖。"
   ]
  },
  {
   "cell_type": "code",
   "execution_count": 112,
   "metadata": {},
   "outputs": [
    {
     "name": "stdout",
     "output_type": "stream",
     "text": [
      "H = 90, test RMSE =  9.454007\n"
     ]
    }
   ],
   "source": [
    "net_d.load_state_dict(torch.load('./net/best_q5_H90.pkl'))\n",
    "net_d.eval()\n",
    "test_pred = net_d(X_test_torch)\n",
    "test_rmse = np.sqrt(mean_squared_error(test_pred.detach().numpy(), Y_test_torch))\n",
    "\n",
    "print(\"H = 90, test RMSE = \", test_rmse)"
   ]
  },
  {
   "cell_type": "markdown",
   "metadata": {},
   "source": [
    "(我不小心在檢查時重新按到了restart the kernel then re-run the whole notebook，且不知為何第一次10分鐘左右就能跑完的部分，跑了30分鐘只跑了600個batch(猜測原因為電腦超負荷，過熱所導致的)，最後因時間的限制下來不及重跑，只能憑印象寫下分析)\n",
    "\n",
    "由圖可知，雖然兩者的RMSE都提高一些了，但是兩者的波動幅度較為平緩，且顯然valid RMSE的效果比起沒有drop out的版本更接近subtrain RMSE(較低)，因此可以知道加入drop out機制有助於穩定資料訓練的狀況，且在test上能有較好的預測表現(test RMSE = 8.7......)"
   ]
  },
  {
   "cell_type": "markdown",
   "metadata": {},
   "source": [
    "#### Q6."
   ]
  },
  {
   "cell_type": "code",
   "execution_count": 113,
   "metadata": {},
   "outputs": [],
   "source": [
    "def training_q5(H):\n",
    "    batch_cnt = 0\n",
    "    best_step_cnt = 0\n",
    "    early_stop = 0\n",
    "    best_rmse = math.inf\n",
    "    \n",
    "    for epoch_id in range(0, nepoch): \n",
    "        for batch_idx, (inputs, targets) in enumerate(subtrainloader):\n",
    "            #reshape target to two-dimensional array\n",
    "            targets = targets.reshape((-1, 1))      \n",
    "            net_d.train()\n",
    "            inputs, targets = inputs.to(device), targets.to(device)\n",
    "            optimizer_q5.zero_grad()\n",
    "            outputs = net_d(inputs)        \n",
    "            loss = loss_fn(outputs, targets)\n",
    "            loss.backward()\n",
    "            optimizer_q5.step()\n",
    "\n",
    "            batch_cnt += 1\n",
    "            best_step_cnt += 1\n",
    "            if batch_cnt % 100 == 0:\n",
    "                subtrain_pred = net_d(X_subtrain_torch)\n",
    "                subtrain_rmse = np.sqrt(mean_squared_error(subtrain_pred.detach().numpy(), Y_subtrain_torch))\n",
    "                valid_pred = net_d(X_valid_torch)\n",
    "                valid_rmse = np.sqrt(mean_squared_error(valid_pred.detach().numpy(), Y_valid_torch))\n",
    "\n",
    "                if valid_rmse < best_rmse:\n",
    "                    best_step_cnt = 0\n",
    "                    best_rmse = valid_rmse\n",
    "                    torch.save(net_d.state_dict(), './net/best_q5_H'+str(H)+'.pkl')\n",
    "            if best_step_cnt > 5000:\n",
    "                print(\"best step cnt while early stop = \", best_step_cnt)\n",
    "                print(\"batch cnt while early stop = \", batch_cnt)\n",
    "                early_stop = 1\n",
    "                break\n",
    "        if early_stop == 1:\n",
    "            break"
   ]
  },
  {
   "cell_type": "code",
   "execution_count": 114,
   "metadata": {},
   "outputs": [
    {
     "ename": "KeyboardInterrupt",
     "evalue": "",
     "output_type": "error",
     "traceback": [
      "\u001b[1;31m---------------------------------------------------------------------------\u001b[0m",
      "\u001b[1;31mKeyboardInterrupt\u001b[0m                         Traceback (most recent call last)",
      "\u001b[1;32m<ipython-input-114-2ed21ca31f2a>\u001b[0m in \u001b[0;36m<module>\u001b[1;34m\u001b[0m\n\u001b[0;32m      1\u001b[0m \u001b[0mH\u001b[0m \u001b[1;33m=\u001b[0m \u001b[1;33m[\u001b[0m\u001b[1;36m20\u001b[0m\u001b[1;33m,\u001b[0m \u001b[1;36m45\u001b[0m\u001b[1;33m,\u001b[0m \u001b[1;36m180\u001b[0m\u001b[1;33m,\u001b[0m \u001b[1;36m360\u001b[0m\u001b[1;33m]\u001b[0m\u001b[1;33m\u001b[0m\u001b[1;33m\u001b[0m\u001b[0m\n\u001b[0;32m      2\u001b[0m \u001b[1;32mfor\u001b[0m \u001b[0mh\u001b[0m \u001b[1;32min\u001b[0m \u001b[0mH\u001b[0m\u001b[1;33m:\u001b[0m\u001b[1;33m\u001b[0m\u001b[1;33m\u001b[0m\u001b[0m\n\u001b[1;32m----> 3\u001b[1;33m     \u001b[0mtraining_q5\u001b[0m\u001b[1;33m(\u001b[0m\u001b[0mh\u001b[0m\u001b[1;33m)\u001b[0m\u001b[1;33m\u001b[0m\u001b[1;33m\u001b[0m\u001b[0m\n\u001b[0m\u001b[0;32m      4\u001b[0m \u001b[1;33m\u001b[0m\u001b[0m\n\u001b[0;32m      5\u001b[0m \u001b[1;32mfor\u001b[0m \u001b[0mh\u001b[0m \u001b[1;32min\u001b[0m \u001b[0mH\u001b[0m\u001b[1;33m:\u001b[0m\u001b[1;33m\u001b[0m\u001b[1;33m\u001b[0m\u001b[0m\n",
      "\u001b[1;32m<ipython-input-113-57b5b6138e1c>\u001b[0m in \u001b[0;36mtraining_q5\u001b[1;34m(H)\u001b[0m\n\u001b[0;32m      6\u001b[0m \u001b[1;33m\u001b[0m\u001b[0m\n\u001b[0;32m      7\u001b[0m     \u001b[1;32mfor\u001b[0m \u001b[0mepoch_id\u001b[0m \u001b[1;32min\u001b[0m \u001b[0mrange\u001b[0m\u001b[1;33m(\u001b[0m\u001b[1;36m0\u001b[0m\u001b[1;33m,\u001b[0m \u001b[0mnepoch\u001b[0m\u001b[1;33m)\u001b[0m\u001b[1;33m:\u001b[0m\u001b[1;33m\u001b[0m\u001b[1;33m\u001b[0m\u001b[0m\n\u001b[1;32m----> 8\u001b[1;33m         \u001b[1;32mfor\u001b[0m \u001b[0mbatch_idx\u001b[0m\u001b[1;33m,\u001b[0m \u001b[1;33m(\u001b[0m\u001b[0minputs\u001b[0m\u001b[1;33m,\u001b[0m \u001b[0mtargets\u001b[0m\u001b[1;33m)\u001b[0m \u001b[1;32min\u001b[0m \u001b[0menumerate\u001b[0m\u001b[1;33m(\u001b[0m\u001b[0msubtrainloader\u001b[0m\u001b[1;33m)\u001b[0m\u001b[1;33m:\u001b[0m\u001b[1;33m\u001b[0m\u001b[1;33m\u001b[0m\u001b[0m\n\u001b[0m\u001b[0;32m      9\u001b[0m             \u001b[1;31m#reshape target to two-dimensional array\u001b[0m\u001b[1;33m\u001b[0m\u001b[1;33m\u001b[0m\u001b[1;33m\u001b[0m\u001b[0m\n\u001b[0;32m     10\u001b[0m             \u001b[0mtargets\u001b[0m \u001b[1;33m=\u001b[0m \u001b[0mtargets\u001b[0m\u001b[1;33m.\u001b[0m\u001b[0mreshape\u001b[0m\u001b[1;33m(\u001b[0m\u001b[1;33m(\u001b[0m\u001b[1;33m-\u001b[0m\u001b[1;36m1\u001b[0m\u001b[1;33m,\u001b[0m \u001b[1;36m1\u001b[0m\u001b[1;33m)\u001b[0m\u001b[1;33m)\u001b[0m\u001b[1;33m\u001b[0m\u001b[1;33m\u001b[0m\u001b[0m\n",
      "\u001b[1;32md:\\python\\lib\\site-packages\\torch\\utils\\data\\dataloader.py\u001b[0m in \u001b[0;36m__next__\u001b[1;34m(self)\u001b[0m\n\u001b[0;32m    433\u001b[0m         \u001b[1;32mif\u001b[0m \u001b[0mself\u001b[0m\u001b[1;33m.\u001b[0m\u001b[0m_sampler_iter\u001b[0m \u001b[1;32mis\u001b[0m \u001b[1;32mNone\u001b[0m\u001b[1;33m:\u001b[0m\u001b[1;33m\u001b[0m\u001b[1;33m\u001b[0m\u001b[0m\n\u001b[0;32m    434\u001b[0m             \u001b[0mself\u001b[0m\u001b[1;33m.\u001b[0m\u001b[0m_reset\u001b[0m\u001b[1;33m(\u001b[0m\u001b[1;33m)\u001b[0m\u001b[1;33m\u001b[0m\u001b[1;33m\u001b[0m\u001b[0m\n\u001b[1;32m--> 435\u001b[1;33m         \u001b[0mdata\u001b[0m \u001b[1;33m=\u001b[0m \u001b[0mself\u001b[0m\u001b[1;33m.\u001b[0m\u001b[0m_next_data\u001b[0m\u001b[1;33m(\u001b[0m\u001b[1;33m)\u001b[0m\u001b[1;33m\u001b[0m\u001b[1;33m\u001b[0m\u001b[0m\n\u001b[0m\u001b[0;32m    436\u001b[0m         \u001b[0mself\u001b[0m\u001b[1;33m.\u001b[0m\u001b[0m_num_yielded\u001b[0m \u001b[1;33m+=\u001b[0m \u001b[1;36m1\u001b[0m\u001b[1;33m\u001b[0m\u001b[1;33m\u001b[0m\u001b[0m\n\u001b[0;32m    437\u001b[0m         \u001b[1;32mif\u001b[0m \u001b[0mself\u001b[0m\u001b[1;33m.\u001b[0m\u001b[0m_dataset_kind\u001b[0m \u001b[1;33m==\u001b[0m \u001b[0m_DatasetKind\u001b[0m\u001b[1;33m.\u001b[0m\u001b[0mIterable\u001b[0m \u001b[1;32mand\u001b[0m\u001b[0;31m \u001b[0m\u001b[0;31m\\\u001b[0m\u001b[1;33m\u001b[0m\u001b[1;33m\u001b[0m\u001b[0m\n",
      "\u001b[1;32md:\\python\\lib\\site-packages\\torch\\utils\\data\\dataloader.py\u001b[0m in \u001b[0;36m_next_data\u001b[1;34m(self)\u001b[0m\n\u001b[0;32m    473\u001b[0m     \u001b[1;32mdef\u001b[0m \u001b[0m_next_data\u001b[0m\u001b[1;33m(\u001b[0m\u001b[0mself\u001b[0m\u001b[1;33m)\u001b[0m\u001b[1;33m:\u001b[0m\u001b[1;33m\u001b[0m\u001b[1;33m\u001b[0m\u001b[0m\n\u001b[0;32m    474\u001b[0m         \u001b[0mindex\u001b[0m \u001b[1;33m=\u001b[0m \u001b[0mself\u001b[0m\u001b[1;33m.\u001b[0m\u001b[0m_next_index\u001b[0m\u001b[1;33m(\u001b[0m\u001b[1;33m)\u001b[0m  \u001b[1;31m# may raise StopIteration\u001b[0m\u001b[1;33m\u001b[0m\u001b[1;33m\u001b[0m\u001b[0m\n\u001b[1;32m--> 475\u001b[1;33m         \u001b[0mdata\u001b[0m \u001b[1;33m=\u001b[0m \u001b[0mself\u001b[0m\u001b[1;33m.\u001b[0m\u001b[0m_dataset_fetcher\u001b[0m\u001b[1;33m.\u001b[0m\u001b[0mfetch\u001b[0m\u001b[1;33m(\u001b[0m\u001b[0mindex\u001b[0m\u001b[1;33m)\u001b[0m  \u001b[1;31m# may raise StopIteration\u001b[0m\u001b[1;33m\u001b[0m\u001b[1;33m\u001b[0m\u001b[0m\n\u001b[0m\u001b[0;32m    476\u001b[0m         \u001b[1;32mif\u001b[0m \u001b[0mself\u001b[0m\u001b[1;33m.\u001b[0m\u001b[0m_pin_memory\u001b[0m\u001b[1;33m:\u001b[0m\u001b[1;33m\u001b[0m\u001b[1;33m\u001b[0m\u001b[0m\n\u001b[0;32m    477\u001b[0m             \u001b[0mdata\u001b[0m \u001b[1;33m=\u001b[0m \u001b[0m_utils\u001b[0m\u001b[1;33m.\u001b[0m\u001b[0mpin_memory\u001b[0m\u001b[1;33m.\u001b[0m\u001b[0mpin_memory\u001b[0m\u001b[1;33m(\u001b[0m\u001b[0mdata\u001b[0m\u001b[1;33m)\u001b[0m\u001b[1;33m\u001b[0m\u001b[1;33m\u001b[0m\u001b[0m\n",
      "\u001b[1;32md:\\python\\lib\\site-packages\\torch\\utils\\data\\_utils\\fetch.py\u001b[0m in \u001b[0;36mfetch\u001b[1;34m(self, possibly_batched_index)\u001b[0m\n\u001b[0;32m     45\u001b[0m         \u001b[1;32melse\u001b[0m\u001b[1;33m:\u001b[0m\u001b[1;33m\u001b[0m\u001b[1;33m\u001b[0m\u001b[0m\n\u001b[0;32m     46\u001b[0m             \u001b[0mdata\u001b[0m \u001b[1;33m=\u001b[0m \u001b[0mself\u001b[0m\u001b[1;33m.\u001b[0m\u001b[0mdataset\u001b[0m\u001b[1;33m[\u001b[0m\u001b[0mpossibly_batched_index\u001b[0m\u001b[1;33m]\u001b[0m\u001b[1;33m\u001b[0m\u001b[1;33m\u001b[0m\u001b[0m\n\u001b[1;32m---> 47\u001b[1;33m         \u001b[1;32mreturn\u001b[0m \u001b[0mself\u001b[0m\u001b[1;33m.\u001b[0m\u001b[0mcollate_fn\u001b[0m\u001b[1;33m(\u001b[0m\u001b[0mdata\u001b[0m\u001b[1;33m)\u001b[0m\u001b[1;33m\u001b[0m\u001b[1;33m\u001b[0m\u001b[0m\n\u001b[0m",
      "\u001b[1;32md:\\python\\lib\\site-packages\\torch\\utils\\data\\_utils\\collate.py\u001b[0m in \u001b[0;36mdefault_collate\u001b[1;34m(batch)\u001b[0m\n\u001b[0;32m     81\u001b[0m             \u001b[1;32mraise\u001b[0m \u001b[0mRuntimeError\u001b[0m\u001b[1;33m(\u001b[0m\u001b[1;34m'each element in list of batch should be of equal size'\u001b[0m\u001b[1;33m)\u001b[0m\u001b[1;33m\u001b[0m\u001b[1;33m\u001b[0m\u001b[0m\n\u001b[0;32m     82\u001b[0m         \u001b[0mtransposed\u001b[0m \u001b[1;33m=\u001b[0m \u001b[0mzip\u001b[0m\u001b[1;33m(\u001b[0m\u001b[1;33m*\u001b[0m\u001b[0mbatch\u001b[0m\u001b[1;33m)\u001b[0m\u001b[1;33m\u001b[0m\u001b[1;33m\u001b[0m\u001b[0m\n\u001b[1;32m---> 83\u001b[1;33m         \u001b[1;32mreturn\u001b[0m \u001b[1;33m[\u001b[0m\u001b[0mdefault_collate\u001b[0m\u001b[1;33m(\u001b[0m\u001b[0msamples\u001b[0m\u001b[1;33m)\u001b[0m \u001b[1;32mfor\u001b[0m \u001b[0msamples\u001b[0m \u001b[1;32min\u001b[0m \u001b[0mtransposed\u001b[0m\u001b[1;33m]\u001b[0m\u001b[1;33m\u001b[0m\u001b[1;33m\u001b[0m\u001b[0m\n\u001b[0m\u001b[0;32m     84\u001b[0m \u001b[1;33m\u001b[0m\u001b[0m\n\u001b[0;32m     85\u001b[0m     \u001b[1;32mraise\u001b[0m \u001b[0mTypeError\u001b[0m\u001b[1;33m(\u001b[0m\u001b[0mdefault_collate_err_msg_format\u001b[0m\u001b[1;33m.\u001b[0m\u001b[0mformat\u001b[0m\u001b[1;33m(\u001b[0m\u001b[0melem_type\u001b[0m\u001b[1;33m)\u001b[0m\u001b[1;33m)\u001b[0m\u001b[1;33m\u001b[0m\u001b[1;33m\u001b[0m\u001b[0m\n",
      "\u001b[1;32md:\\python\\lib\\site-packages\\torch\\utils\\data\\_utils\\collate.py\u001b[0m in \u001b[0;36m<listcomp>\u001b[1;34m(.0)\u001b[0m\n\u001b[0;32m     81\u001b[0m             \u001b[1;32mraise\u001b[0m \u001b[0mRuntimeError\u001b[0m\u001b[1;33m(\u001b[0m\u001b[1;34m'each element in list of batch should be of equal size'\u001b[0m\u001b[1;33m)\u001b[0m\u001b[1;33m\u001b[0m\u001b[1;33m\u001b[0m\u001b[0m\n\u001b[0;32m     82\u001b[0m         \u001b[0mtransposed\u001b[0m \u001b[1;33m=\u001b[0m \u001b[0mzip\u001b[0m\u001b[1;33m(\u001b[0m\u001b[1;33m*\u001b[0m\u001b[0mbatch\u001b[0m\u001b[1;33m)\u001b[0m\u001b[1;33m\u001b[0m\u001b[1;33m\u001b[0m\u001b[0m\n\u001b[1;32m---> 83\u001b[1;33m         \u001b[1;32mreturn\u001b[0m \u001b[1;33m[\u001b[0m\u001b[0mdefault_collate\u001b[0m\u001b[1;33m(\u001b[0m\u001b[0msamples\u001b[0m\u001b[1;33m)\u001b[0m \u001b[1;32mfor\u001b[0m \u001b[0msamples\u001b[0m \u001b[1;32min\u001b[0m \u001b[0mtransposed\u001b[0m\u001b[1;33m]\u001b[0m\u001b[1;33m\u001b[0m\u001b[1;33m\u001b[0m\u001b[0m\n\u001b[0m\u001b[0;32m     84\u001b[0m \u001b[1;33m\u001b[0m\u001b[0m\n\u001b[0;32m     85\u001b[0m     \u001b[1;32mraise\u001b[0m \u001b[0mTypeError\u001b[0m\u001b[1;33m(\u001b[0m\u001b[0mdefault_collate_err_msg_format\u001b[0m\u001b[1;33m.\u001b[0m\u001b[0mformat\u001b[0m\u001b[1;33m(\u001b[0m\u001b[0melem_type\u001b[0m\u001b[1;33m)\u001b[0m\u001b[1;33m)\u001b[0m\u001b[1;33m\u001b[0m\u001b[1;33m\u001b[0m\u001b[0m\n",
      "\u001b[1;32md:\\python\\lib\\site-packages\\torch\\utils\\data\\_utils\\collate.py\u001b[0m in \u001b[0;36mdefault_collate\u001b[1;34m(batch)\u001b[0m\n\u001b[0;32m     61\u001b[0m                 \u001b[1;32mraise\u001b[0m \u001b[0mTypeError\u001b[0m\u001b[1;33m(\u001b[0m\u001b[0mdefault_collate_err_msg_format\u001b[0m\u001b[1;33m.\u001b[0m\u001b[0mformat\u001b[0m\u001b[1;33m(\u001b[0m\u001b[0melem\u001b[0m\u001b[1;33m.\u001b[0m\u001b[0mdtype\u001b[0m\u001b[1;33m)\u001b[0m\u001b[1;33m)\u001b[0m\u001b[1;33m\u001b[0m\u001b[1;33m\u001b[0m\u001b[0m\n\u001b[0;32m     62\u001b[0m \u001b[1;33m\u001b[0m\u001b[0m\n\u001b[1;32m---> 63\u001b[1;33m             \u001b[1;32mreturn\u001b[0m \u001b[0mdefault_collate\u001b[0m\u001b[1;33m(\u001b[0m\u001b[1;33m[\u001b[0m\u001b[0mtorch\u001b[0m\u001b[1;33m.\u001b[0m\u001b[0mas_tensor\u001b[0m\u001b[1;33m(\u001b[0m\u001b[0mb\u001b[0m\u001b[1;33m)\u001b[0m \u001b[1;32mfor\u001b[0m \u001b[0mb\u001b[0m \u001b[1;32min\u001b[0m \u001b[0mbatch\u001b[0m\u001b[1;33m]\u001b[0m\u001b[1;33m)\u001b[0m\u001b[1;33m\u001b[0m\u001b[1;33m\u001b[0m\u001b[0m\n\u001b[0m\u001b[0;32m     64\u001b[0m         \u001b[1;32melif\u001b[0m \u001b[0melem\u001b[0m\u001b[1;33m.\u001b[0m\u001b[0mshape\u001b[0m \u001b[1;33m==\u001b[0m \u001b[1;33m(\u001b[0m\u001b[1;33m)\u001b[0m\u001b[1;33m:\u001b[0m  \u001b[1;31m# scalars\u001b[0m\u001b[1;33m\u001b[0m\u001b[1;33m\u001b[0m\u001b[0m\n\u001b[0;32m     65\u001b[0m             \u001b[1;32mreturn\u001b[0m \u001b[0mtorch\u001b[0m\u001b[1;33m.\u001b[0m\u001b[0mas_tensor\u001b[0m\u001b[1;33m(\u001b[0m\u001b[0mbatch\u001b[0m\u001b[1;33m)\u001b[0m\u001b[1;33m\u001b[0m\u001b[1;33m\u001b[0m\u001b[0m\n",
      "\u001b[1;32md:\\python\\lib\\site-packages\\torch\\utils\\data\\_utils\\collate.py\u001b[0m in \u001b[0;36mdefault_collate\u001b[1;34m(batch)\u001b[0m\n\u001b[0;32m     53\u001b[0m             \u001b[0mstorage\u001b[0m \u001b[1;33m=\u001b[0m \u001b[0melem\u001b[0m\u001b[1;33m.\u001b[0m\u001b[0mstorage\u001b[0m\u001b[1;33m(\u001b[0m\u001b[1;33m)\u001b[0m\u001b[1;33m.\u001b[0m\u001b[0m_new_shared\u001b[0m\u001b[1;33m(\u001b[0m\u001b[0mnumel\u001b[0m\u001b[1;33m)\u001b[0m\u001b[1;33m\u001b[0m\u001b[1;33m\u001b[0m\u001b[0m\n\u001b[0;32m     54\u001b[0m             \u001b[0mout\u001b[0m \u001b[1;33m=\u001b[0m \u001b[0melem\u001b[0m\u001b[1;33m.\u001b[0m\u001b[0mnew\u001b[0m\u001b[1;33m(\u001b[0m\u001b[0mstorage\u001b[0m\u001b[1;33m)\u001b[0m\u001b[1;33m\u001b[0m\u001b[1;33m\u001b[0m\u001b[0m\n\u001b[1;32m---> 55\u001b[1;33m         \u001b[1;32mreturn\u001b[0m \u001b[0mtorch\u001b[0m\u001b[1;33m.\u001b[0m\u001b[0mstack\u001b[0m\u001b[1;33m(\u001b[0m\u001b[0mbatch\u001b[0m\u001b[1;33m,\u001b[0m \u001b[1;36m0\u001b[0m\u001b[1;33m,\u001b[0m \u001b[0mout\u001b[0m\u001b[1;33m=\u001b[0m\u001b[0mout\u001b[0m\u001b[1;33m)\u001b[0m\u001b[1;33m\u001b[0m\u001b[1;33m\u001b[0m\u001b[0m\n\u001b[0m\u001b[0;32m     56\u001b[0m     \u001b[1;32melif\u001b[0m \u001b[0melem_type\u001b[0m\u001b[1;33m.\u001b[0m\u001b[0m__module__\u001b[0m \u001b[1;33m==\u001b[0m \u001b[1;34m'numpy'\u001b[0m \u001b[1;32mand\u001b[0m \u001b[0melem_type\u001b[0m\u001b[1;33m.\u001b[0m\u001b[0m__name__\u001b[0m \u001b[1;33m!=\u001b[0m \u001b[1;34m'str_'\u001b[0m\u001b[0;31m \u001b[0m\u001b[0;31m\\\u001b[0m\u001b[1;33m\u001b[0m\u001b[1;33m\u001b[0m\u001b[0m\n\u001b[0;32m     57\u001b[0m             \u001b[1;32mand\u001b[0m \u001b[0melem_type\u001b[0m\u001b[1;33m.\u001b[0m\u001b[0m__name__\u001b[0m \u001b[1;33m!=\u001b[0m \u001b[1;34m'string_'\u001b[0m\u001b[1;33m:\u001b[0m\u001b[1;33m\u001b[0m\u001b[1;33m\u001b[0m\u001b[0m\n",
      "\u001b[1;31mKeyboardInterrupt\u001b[0m: "
     ]
    }
   ],
   "source": [
    "H = [20, 45, 180, 360]\n",
    "for h in H:\n",
    "    training_q5(h)"
   ]
  },
  {
   "cell_type": "code",
   "execution_count": 120,
   "metadata": {},
   "outputs": [
    {
     "name": "stdout",
     "output_type": "stream",
     "text": [
      "H = 20, Test RMSE = 9.26413\n",
      "H = 45, Test RMSE = 9.291512\n"
     ]
    }
   ],
   "source": [
    "H = [20, 45, 180, 360]\n",
    "for h in H:\n",
    "    net_d.load_state_dict(torch.load('./net/best_q5_H'+str(h)+'.pkl'))\n",
    "    net_d.eval()\n",
    "    test_pred = net_d(X_test_torch)\n",
    "    test_rmse = np.sqrt(mean_squared_error(test_pred.detach().numpy(), Y_test_torch))\n",
    "    print('H = '+str(h)+', Test RMSE = '+str(test_rmse))"
   ]
  },
  {
   "cell_type": "markdown",
   "metadata": {},
   "source": [
    "印象中最好的預測結果發生在H = 360，可以合理推測hidden nodes越多，drop out機制的效果越強大，當H太小的時候，0.5的drop out會使的剩餘的參數過少，因此對預測結果能力造成了反效果，比起沒有drop out的版本，預測效果反而降低了。"
   ]
  },
  {
   "cell_type": "markdown",
   "metadata": {},
   "source": [
    "Q7.L2 + L1 loss"
   ]
  },
  {
   "cell_type": "code",
   "execution_count": null,
   "metadata": {},
   "outputs": [],
   "source": [
    "藉由改變z，以改變L1 loss 和 L2 loss的比例，可以算出對於此資料集而言，何種線性組合的預測效果較佳"
   ]
  },
  {
   "cell_type": "code",
   "execution_count": 3,
   "metadata": {},
   "outputs": [
    {
     "ename": "NameError",
     "evalue": "name 'torch' is not defined",
     "output_type": "error",
     "traceback": [
      "\u001b[1;31m---------------------------------------------------------------------------\u001b[0m",
      "\u001b[1;31mNameError\u001b[0m                                 Traceback (most recent call last)",
      "\u001b[1;32m<ipython-input-3-a571b26e85ff>\u001b[0m in \u001b[0;36m<module>\u001b[1;34m\u001b[0m\n\u001b[1;32m----> 1\u001b[1;33m \u001b[1;32mclass\u001b[0m \u001b[0ml2_l1_loss\u001b[0m\u001b[1;33m(\u001b[0m\u001b[0mtorch\u001b[0m\u001b[1;33m.\u001b[0m\u001b[0mnn\u001b[0m\u001b[1;33m.\u001b[0m\u001b[0mModule\u001b[0m\u001b[1;33m)\u001b[0m\u001b[1;33m:\u001b[0m\u001b[1;33m\u001b[0m\u001b[1;33m\u001b[0m\u001b[0m\n\u001b[0m\u001b[0;32m      2\u001b[0m     \u001b[1;32mdef\u001b[0m \u001b[0m__init__\u001b[0m\u001b[1;33m(\u001b[0m\u001b[0mself\u001b[0m\u001b[1;33m,\u001b[0m \u001b[0mz\u001b[0m\u001b[1;33m)\u001b[0m\u001b[1;33m:\u001b[0m\u001b[1;33m\u001b[0m\u001b[1;33m\u001b[0m\u001b[0m\n\u001b[0;32m      3\u001b[0m         \u001b[0msuper\u001b[0m\u001b[1;33m(\u001b[0m\u001b[1;33m)\u001b[0m\u001b[1;33m.\u001b[0m\u001b[0m__init__\u001b[0m\u001b[1;33m(\u001b[0m\u001b[1;33m)\u001b[0m\u001b[1;33m\u001b[0m\u001b[1;33m\u001b[0m\u001b[0m\n\u001b[0;32m      4\u001b[0m         \u001b[0mself\u001b[0m\u001b[1;33m.\u001b[0m\u001b[0mz\u001b[0m \u001b[1;33m=\u001b[0m \u001b[0mz\u001b[0m\u001b[1;33m\u001b[0m\u001b[1;33m\u001b[0m\u001b[0m\n\u001b[0;32m      5\u001b[0m \u001b[1;33m\u001b[0m\u001b[0m\n",
      "\u001b[1;31mNameError\u001b[0m: name 'torch' is not defined"
     ]
    }
   ],
   "source": [
    "class l2_l1_loss(torch.nn.Module):\n",
    "    def __init__(self, z):\n",
    "        super().__init__()\n",
    "        self.z = z\n",
    "        \n",
    "    def forward(self, x, y):\n",
    "        return self.z * torch.sum(torch.pow((x - y), 2)) + (1 - self.z) * torch.sum(torch.abs(x - y))"
   ]
  },
  {
   "cell_type": "code",
   "execution_count": 2,
   "metadata": {},
   "outputs": [
    {
     "ename": "NameError",
     "evalue": "name 'l2_l1_loss' is not defined",
     "output_type": "error",
     "traceback": [
      "\u001b[1;31m---------------------------------------------------------------------------\u001b[0m",
      "\u001b[1;31mNameError\u001b[0m                                 Traceback (most recent call last)",
      "\u001b[1;32m<ipython-input-2-41e9d5154d7a>\u001b[0m in \u001b[0;36m<module>\u001b[1;34m\u001b[0m\n\u001b[0;32m      5\u001b[0m \u001b[0mearly_stop\u001b[0m \u001b[1;33m=\u001b[0m \u001b[1;36m0\u001b[0m\u001b[1;33m\u001b[0m\u001b[1;33m\u001b[0m\u001b[0m\n\u001b[0;32m      6\u001b[0m \u001b[0mbest_rmse\u001b[0m \u001b[1;33m=\u001b[0m \u001b[0mmath\u001b[0m\u001b[1;33m.\u001b[0m\u001b[0minf\u001b[0m\u001b[1;33m\u001b[0m\u001b[1;33m\u001b[0m\u001b[0m\n\u001b[1;32m----> 7\u001b[1;33m \u001b[0mloss_fn\u001b[0m \u001b[1;33m=\u001b[0m \u001b[0ml2_l1_loss\u001b[0m\u001b[1;33m(\u001b[0m\u001b[1;36m0.5\u001b[0m\u001b[1;33m)\u001b[0m\u001b[1;33m\u001b[0m\u001b[1;33m\u001b[0m\u001b[0m\n\u001b[0m\u001b[0;32m      8\u001b[0m \u001b[1;33m\u001b[0m\u001b[0m\n\u001b[0;32m      9\u001b[0m \u001b[0msubtrain_rmse_list\u001b[0m \u001b[1;33m=\u001b[0m \u001b[1;33m[\u001b[0m\u001b[1;33m]\u001b[0m\u001b[1;33m\u001b[0m\u001b[1;33m\u001b[0m\u001b[0m\n",
      "\u001b[1;31mNameError\u001b[0m: name 'l2_l1_loss' is not defined"
     ]
    }
   ],
   "source": [
    "h = 90\n",
    "batch_cnt = 0\n",
    "best_step_cnt = 0\n",
    "early_stop = 0\n",
    "best_rmse = math.inf\n",
    "loss_fn = l2_l1_loss(0.5)\n",
    "\n",
    "subtrain_rmse_list = []\n",
    "valid_rmse_list = []\n",
    "    \n",
    "for epoch_id in range(0, nepoch): \n",
    "    for batch_idx, (inputs, targets) in enumerate(subtrainloader):\n",
    "        #reshape target to two-dimensional array\n",
    "        targets = targets.reshape((-1, 1))      \n",
    "        net_d.train()\n",
    "        inputs, targets = inputs.to(device), targets.to(device)\n",
    "        optimizer_q5.zero_grad()\n",
    "        outputs = net_d(inputs)        \n",
    "        loss = loss_fn(outputs, targets)\n",
    "        loss.backward()\n",
    "        optimizer_q5.step()\n",
    "\n",
    "        batch_cnt += 1\n",
    "        best_step_cnt += 1\n",
    "        if batch_cnt % 100 == 0:\n",
    "            subtrain_pred = net_d(X_subtrain_torch)\n",
    "            subtrain_rmse = np.sqrt(mean_squared_error(subtrain_pred.detach().numpy(), Y_subtrain_torch))\n",
    "            subtrain_rmse_list.append(subtrain_rmse)\n",
    "            valid_pred = net_d(X_valid_torch)\n",
    "            valid_rmse = np.sqrt(mean_squared_error(valid_pred.detach().numpy(), Y_valid_torch))\n",
    "            valid_rmse_list.append(valid_rmse)\n",
    "\n",
    "            if valid_rmse < best_rmse:\n",
    "                best_step_cnt = 0\n",
    "                best_rmse = valid_rmse\n",
    "                torch.save(net_d.state_dict(), './net/best_q7_z'+str(0.5)+'.pkl')\n",
    "        if best_step_cnt > 5000:\n",
    "            print(\"best step cnt while early stop = \", best_step_cnt)\n",
    "            print(\"batch cnt while early stop = \", batch_cnt)\n",
    "            early_stop = 1\n",
    "            break\n",
    "    if early_stop == 1:\n",
    "        break\n",
    "print(\"batch cnt =\", batch_cnt)"
   ]
  },
  {
   "cell_type": "code",
   "execution_count": null,
   "metadata": {},
   "outputs": [],
   "source": [
    "l = list(range(len(subtrain_rmse_list)))\n",
    "plt.plot(l, subtrain_rmse_list, label='subtrain')\n",
    "plt.plot(l, valid_rmse_list, label='valid')\n",
    "plt.xlabel(\"per 100 batch\")\n",
    "plt.ylabel(\"RMSE\")\n",
    "plt.legend()\n",
    "plt.show()"
   ]
  },
  {
   "cell_type": "code",
   "execution_count": null,
   "metadata": {},
   "outputs": [],
   "source": [
    "net_d.load_state_dict(torch.load('./net/best_q7_z0.5.pkl'))\n",
    "net_d.eval()\n",
    "test_pred = net_d(X_test_torch)\n",
    "test_rmse = np.sqrt(mean_squared_error(test_pred.detach().numpy(), Y_test_torch))\n",
    "\n",
    "print(\"z = 0.5, test RMSE = \", test_rmse)"
   ]
  },
  {
   "cell_type": "code",
   "execution_count": null,
   "metadata": {},
   "outputs": [],
   "source": [
    "def training_q7(z):\n",
    "    h = 90\n",
    "    batch_cnt = 0\n",
    "    best_step_cnt = 0\n",
    "    early_stop = 0\n",
    "    best_rmse = math.inf\n",
    "    loss_fn = l2_l1_loss(z)\n",
    "\n",
    "    for epoch_id in range(0, nepoch): \n",
    "        for batch_idx, (inputs, targets) in enumerate(subtrainloader):\n",
    "            #reshape target to two-dimensional array\n",
    "            targets = targets.reshape((-1, 1))      \n",
    "            net_d.train()\n",
    "            inputs, targets = inputs.to(device), targets.to(device)\n",
    "            optimizer_q5.zero_grad()\n",
    "            outputs = net_d(inputs)        \n",
    "            loss = loss_fn(outputs, targets)\n",
    "            loss.backward()\n",
    "            optimizer_q5.step()\n",
    "\n",
    "            batch_cnt += 1\n",
    "            best_step_cnt += 1\n",
    "            if batch_cnt % 100 == 0:\n",
    "                subtrain_pred = net_d(X_subtrain_torch\n",
    "                valid_pred = net_d(X_valid_torch)\n",
    "                valid_rmse = np.sqrt(mean_squared_error(valid_pred.detach().numpy(), Y_valid_torch))\n",
    "\n",
    "                if valid_rmse < best_rmse:\n",
    "                    best_step_cnt = 0\n",
    "                    best_rmse = valid_rmse\n",
    "                    torch.save(net_d.state_dict(), './net/best_q7_z'+str(z)+'.pkl')\n",
    "            if best_step_cnt > 5000:\n",
    "                print(\"best step cnt while early stop = \", best_step_cnt)\n",
    "                print(\"batch cnt while early stop = \", batch_cnt)\n",
    "                early_stop = 1\n",
    "                break\n",
    "        if early_stop == 1:\n",
    "            break\n",
    "    print(\"batch cnt =\", batch_cnt)"
   ]
  },
  {
   "cell_type": "code",
   "execution_count": null,
   "metadata": {},
   "outputs": [],
   "source": [
    "z_q7 = [0, 0.1, 0.9, 1]\n",
    "for i in z_q7:\n",
    "    net_d.load_state_dict(torch.load('./net/best_q7_z'+str(i)+'.pkl'))\n",
    "    net_d.eval()\n",
    "    test_pred = net_d(X_test_torch)\n",
    "    test_rmse = np.sqrt(mean_squared_error(test_pred.detach().numpy(), Y_test_torch))\n",
    "\n",
    "    print(\"z = \",i ,\" test RMSE = \", test_rmse)"
   ]
  },
  {
   "cell_type": "markdown",
   "metadata": {},
   "source": [
    "L1的計算方式較不能適應各類型況，因此理論上z越接近0的時候，預測效果越差，越接近1效果越好，然而兩種loss function的線性組合，能夠彌補對方的缺點，因此效果通常會好過只用一種loss function，就此題使用的z參數而言，0.9應有最佳的預測效果"
   ]
  },
  {
   "cell_type": "markdown",
   "metadata": {},
   "source": [
    "#### Q8 L2 + customized loss"
   ]
  },
  {
   "cell_type": "markdown",
   "metadata": {},
   "source": [
    "藉由改變z，以改變customized loss 和 L2 loss的比例，可以算出對於此資料集而言，何種線性組合的預測效果較佳"
   ]
  },
  {
   "cell_type": "code",
   "execution_count": null,
   "metadata": {},
   "outputs": [],
   "source": [
    "class Customerized(nn.Module):\n",
    "    def __init__(self, z):\n",
    "        super().__init__()\n",
    "        self.z = z\n",
    "        \n",
    "    def forward(self, x, y):\n",
    "        return self.z * torch.sum(torch.pow((x - y), 2)) + (1 - self.z) * torch.sum(0.5 * torch.clamp(x - y, min=0.0) + 0.5 * torch.clamp(y - x, min=0.0))"
   ]
  },
  {
   "cell_type": "code",
   "execution_count": null,
   "metadata": {},
   "outputs": [],
   "source": [
    "h = 90\n",
    "batch_cnt = 0\n",
    "best_step_cnt = 0\n",
    "early_stop = 0\n",
    "best_rmse = math.inf\n",
    "loss_fn = Customerized(0)\n",
    "\n",
    "subtrain_rmse_list = []\n",
    "valid_rmse_list = []\n",
    "    \n",
    "for epoch_id in range(0, nepoch): \n",
    "    for batch_idx, (inputs, targets) in enumerate(subtrainloader):\n",
    "        #reshape target to two-dimensional array\n",
    "        targets = targets.reshape((-1, 1))      \n",
    "        net_d.train()\n",
    "        inputs, targets = inputs.to(device), targets.to(device)\n",
    "        optimizer_q5.zero_grad()\n",
    "        outputs = net_d(inputs)        \n",
    "        loss = loss_fn(outputs, targets)\n",
    "        loss.backward()\n",
    "        optimizer_q5.step()\n",
    "\n",
    "        batch_cnt += 1\n",
    "        best_step_cnt += 1\n",
    "        if batch_cnt % 100 == 0:\n",
    "            subtrain_pred = net_d(X_subtrain_torch)\n",
    "            subtrain_rmse = np.sqrt(mean_squared_error(subtrain_pred.detach().numpy(), Y_subtrain_torch))\n",
    "            subtrain_rmse_list.append(subtrain_rmse)\n",
    "            valid_pred = net_d(X_valid_torch)\n",
    "            valid_rmse = np.sqrt(mean_squared_error(valid_pred.detach().numpy(), Y_valid_torch))\n",
    "            valid_rmse_list.append(valid_rmse)\n",
    "\n",
    "            if valid_rmse < best_rmse:\n",
    "                best_step_cnt = 0\n",
    "                best_rmse = valid_rmse\n",
    "                torch.save(net_d.state_dict(), './net/best_q8_z'+str(0)+'.pkl')\n",
    "        if best_step_cnt > 5000:\n",
    "            print(\"best step cnt while early stop = \", best_step_cnt)\n",
    "            print(\"batch cnt while early stop = \", batch_cnt)\n",
    "            early_stop = 1\n",
    "            break\n",
    "    if early_stop == 1:\n",
    "        break\n",
    "print(\"batch cnt =\", batch_cnt)"
   ]
  },
  {
   "cell_type": "code",
   "execution_count": null,
   "metadata": {},
   "outputs": [],
   "source": [
    "l = list(range(len(subtrain_rmse_list)))\n",
    "plt.plot(l, subtrain_rmse_list, label='subtrain')\n",
    "plt.plot(l, valid_rmse_list, label='valid')\n",
    "plt.xlabel(\"per 100 batch\")\n",
    "plt.ylabel(\"RMSE\")\n",
    "plt.legend()\n",
    "plt.show()"
   ]
  },
  {
   "cell_type": "code",
   "execution_count": null,
   "metadata": {},
   "outputs": [],
   "source": [
    "net_d.load_state_dict(torch.load('./net/best_q8_z0.pkl'))\n",
    "net_d.eval()\n",
    "test_pred = net_d(X_test_torch)\n",
    "test_rmse = np.sqrt(mean_squared_error(test_pred.detach().numpy(), Y_test_torch))\n",
    "\n",
    "print(\"z = 0, test RMSE = \", test_rmse)"
   ]
  },
  {
   "cell_type": "code",
   "execution_count": null,
   "metadata": {},
   "outputs": [],
   "source": [
    "def training_q8(z):\n",
    "    h = 90\n",
    "    batch_cnt = 0\n",
    "    best_step_cnt = 0\n",
    "    early_stop = 0\n",
    "    best_rmse = math.inf\n",
    "    loss_fn = Customerized(0)\n",
    "\n",
    "    for epoch_id in range(0, nepoch): \n",
    "        for batch_idx, (inputs, targets) in enumerate(subtrainloader):\n",
    "            #reshape target to two-dimensional array\n",
    "            targets = targets.reshape((-1, 1))      \n",
    "            net_d.train()\n",
    "            inputs, targets = inputs.to(device), targets.to(device)\n",
    "            optimizer_q5.zero_grad()\n",
    "            outputs = net_d(inputs)        \n",
    "            loss = loss_fn(outputs, targets)\n",
    "            loss.backward()\n",
    "            optimizer_q5.step()\n",
    "\n",
    "            batch_cnt += 1\n",
    "            best_step_cnt += 1\n",
    "            if batch_cnt % 100 == 0:\n",
    "                subtrain_pred = net_d(X_subtrain_torch)\n",
    "                valid_pred = net_d(X_valid_torch)\n",
    "                valid_rmse = np.sqrt(mean_squared_error(valid_pred.detach().numpy(), Y_valid_torch))\n",
    "\n",
    "\n",
    "                if valid_rmse < best_rmse:\n",
    "                    best_step_cnt = 0\n",
    "                    best_rmse = valid_rmse\n",
    "                    torch.save(net_d.state_dict(), './net/best_q8_z'+str(z)+'.pkl')\n",
    "            if best_step_cnt > 5000:\n",
    "                print(\"best step cnt while early stop = \", best_step_cnt)\n",
    "                print(\"batch cnt while early stop = \", batch_cnt)\n",
    "                early_stop = 1\n",
    "                break\n",
    "        if early_stop == 1:\n",
    "            break\n",
    "    print(\"batch cnt =\", batch_cnt)"
   ]
  },
  {
   "cell_type": "code",
   "execution_count": null,
   "metadata": {},
   "outputs": [],
   "source": [
    "z_q8 = [0.1, 0.5, 0.9, 1]\n",
    "for i in z_q8:\n",
    "    net_d.load_state_dict(torch.load('./net/best_q8_z'+str(i)+'.pkl'))\n",
    "    net_d.eval()\n",
    "    test_pred = net_d(X_test_torch)\n",
    "    test_rmse = np.sqrt(mean_squared_error(test_pred.detach().numpy(), Y_test_torch))\n",
    "\n",
    "    print(\"z = \",i ,\" test RMSE = \", test_rmse)"
   ]
  },
  {
   "cell_type": "markdown",
   "metadata": {},
   "source": [
    "通常兩種loss function的線性組合能夠一定程度的彌補對方的缺點，因此很可能會好過只用一種loss function，而通常效果較好的loss function占比越大效果越好，因此就此題而言最佳預測效果可能發生在z = 0.1或0.9時。而印象中，Customerized loss似乎不太適合本題的資料集，因此預測效果最好的情況落在 z=0.1"
   ]
  }
 ],
 "metadata": {
  "kernelspec": {
   "display_name": "Python 3",
   "language": "python",
   "name": "python3"
  },
  "language_info": {
   "codemirror_mode": {
    "name": "ipython",
    "version": 3
   },
   "file_extension": ".py",
   "mimetype": "text/x-python",
   "name": "python",
   "nbconvert_exporter": "python",
   "pygments_lexer": "ipython3",
   "version": "3.8.0"
  }
 },
 "nbformat": 4,
 "nbformat_minor": 4
}
